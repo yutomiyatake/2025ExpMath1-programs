{
 "cells": [
  {
   "cell_type": "code",
   "execution_count": 1,
   "metadata": {},
   "outputs": [],
   "source": [
    "using LinearAlgebra"
   ]
  },
  {
   "cell_type": "markdown",
   "metadata": {},
   "source": [
    "ベクトルを正規化する関数 vecnormalize を定義します．\n",
    "LinearAlgebraパッケージの中には normalize という関数があるので，それを使っても構いませんが（おそらく normalize の方が高速です），以下の定義も理解しておくと良いでしょう（以降ではどちらの関数を使っても構いませんが， ゼロベクトルが引数の場合の出力は違いますので，注意する必要があります）．"
   ]
  },
  {
   "cell_type": "code",
   "execution_count": 2,
   "metadata": {},
   "outputs": [
    {
     "data": {
      "text/plain": [
       "vecnormalize (generic function with 1 method)"
      ]
     },
     "execution_count": 2,
     "metadata": {},
     "output_type": "execute_result"
    }
   ],
   "source": [
    "function vecnormalize(x::AbstractVector)\n",
    "    x_norm = norm(x)\n",
    "    if x_norm == 0\n",
    "        return x\n",
    "    else\n",
    "        return 1/x_norm * x\n",
    "    end\n",
    "end"
   ]
  },
  {
   "cell_type": "markdown",
   "metadata": {},
   "source": [
    "それでは，GSの正規直交化の関数を定義してみましょう．\n",
    "「ここを書く」のところを書くことが今週の課題です．"
   ]
  },
  {
   "cell_type": "code",
   "execution_count": 1,
   "metadata": {},
   "outputs": [
    {
     "data": {
      "text/plain": [
       "GramSchmidt (generic function with 1 method)"
      ]
     },
     "execution_count": 1,
     "metadata": {},
     "output_type": "execute_result"
    }
   ],
   "source": [
    "function GramSchmidt(U::AbstractMatrix; tol = 1e-10)\n",
    "    (m,n) = size(U) # 行列Uのサイズを取得． m:ベクトルの長さ， n:ベクトルの本数 に対応 \n",
    "    V = similar(U) # U と同じサイズの2次元配列を準備\n",
    "    \n",
    "    for i = 1:n\n",
    "        V[:,i] = U[:,i]\n",
    "        for j = 1:i-1\n",
    "            # ここを書く\n",
    "        end\n",
    "        if norm(V[:,i]) < tol # もし V[:,i] が零ベクトル（に十分近いベクトル）ならば，i本目までのベクトルを出力\n",
    "            println(\"Vectors are linearly dependent.\")\n",
    "            return V[:,1:i]\n",
    "            else\n",
    "            V[:,i] = normalize(V[:,i]) # 正規化\n",
    "        end\n",
    "    end\n",
    "    return V\n",
    "end"
   ]
  },
  {
   "cell_type": "markdown",
   "metadata": {},
   "source": [
    "では実際に試してみましょう．\n",
    "適当に行列を準備します．<br>\n",
    "**注意**：行列の成分は実数型にしてください．"
   ]
  },
  {
   "cell_type": "code",
   "execution_count": 4,
   "metadata": {},
   "outputs": [
    {
     "data": {
      "text/plain": [
       "4×4 Matrix{Float64}:\n",
       " 1.0  2.0  3.0  1.0\n",
       " 2.0  3.0  2.0  3.0\n",
       " 1.0  2.0  1.0  1.0\n",
       " 1.0  2.0  6.0  3.0"
      ]
     },
     "execution_count": 4,
     "metadata": {},
     "output_type": "execute_result"
    }
   ],
   "source": [
    "A = [1. 2 3 1; 2 3 2 3; 1 2 1 1; 1 2 6 3]"
   ]
  },
  {
   "cell_type": "markdown",
   "metadata": {},
   "source": [
    "計算してみましょう．"
   ]
  },
  {
   "cell_type": "code",
   "execution_count": 5,
   "metadata": {},
   "outputs": [
    {
     "data": {
      "text/plain": [
       "4×4 Matrix{Float64}:\n",
       " 0.377964  0.436436  0.424264  0.223607\n",
       " 0.755929  0.654654  0.282843  0.67082\n",
       " 0.377964  0.436436  0.141421  0.223607\n",
       " 0.377964  0.436436  0.848528  0.67082"
      ]
     },
     "execution_count": 5,
     "metadata": {},
     "output_type": "execute_result"
    }
   ],
   "source": [
    "GramSchmidt(A)"
   ]
  },
  {
   "cell_type": "markdown",
   "metadata": {},
   "source": [
    "ランダムな行列は次のように作成できます．ただし，行列のサイズが大きくなると，計算に時間がかかるようになりますので，やみくもに rand(10000,10000)などとするのは避けた方が無難です（少しずつ大きくしていくとよいでしょう）．"
   ]
  },
  {
   "cell_type": "code",
   "execution_count": 6,
   "metadata": {},
   "outputs": [
    {
     "data": {
      "text/plain": [
       "6×5 Matrix{Float64}:\n",
       " 0.138786   0.0313173  0.963361   0.488584  0.294201\n",
       " 0.0798441  0.296312   0.38475    0.349781  0.706016\n",
       " 0.599825   0.320308   0.893062   0.551807  0.519973\n",
       " 0.181363   0.838772   0.0846906  0.679239  0.191026\n",
       " 0.585328   0.244397   0.145763   0.643176  0.206493\n",
       " 0.505203   0.711614   0.4339     0.400232  0.583486"
      ]
     },
     "execution_count": 6,
     "metadata": {},
     "output_type": "execute_result"
    }
   ],
   "source": [
    "A = rand(6,5)"
   ]
  },
  {
   "cell_type": "code",
   "execution_count": 7,
   "metadata": {},
   "outputs": [
    {
     "data": {
      "text/plain": [
       "6×5 Matrix{Float64}:\n",
       " 0.137679   0.0259091  0.666316   0.374641  0.260551\n",
       " 0.0792067  0.245142   0.266115   0.268208  0.625265\n",
       " 0.595037   0.264994   0.617693   0.42312   0.460501\n",
       " 0.179915   0.693925   0.0585769  0.520834  0.169177\n",
       " 0.580656   0.202192   0.100818   0.49318   0.182876\n",
       " 0.50117    0.588726   0.30011    0.306894  0.51675"
      ]
     },
     "execution_count": 7,
     "metadata": {},
     "output_type": "execute_result"
    }
   ],
   "source": [
    "GramSchmidt(A)"
   ]
  },
  {
   "cell_type": "markdown",
   "metadata": {},
   "source": [
    "線形従属の場合も試してみましょう"
   ]
  },
  {
   "cell_type": "code",
   "execution_count": 8,
   "metadata": {},
   "outputs": [
    {
     "data": {
      "text/plain": [
       "3×3 Matrix{Float64}:\n",
       " 1.0  2.0   3.0\n",
       " 4.0  5.0   9.0\n",
       " 7.0  8.0  15.0"
      ]
     },
     "execution_count": 8,
     "metadata": {},
     "output_type": "execute_result"
    }
   ],
   "source": [
    "A = [1. 2 3; 4 5 9; 7 8 15]"
   ]
  },
  {
   "cell_type": "code",
   "execution_count": 9,
   "metadata": {},
   "outputs": [
    {
     "data": {
      "text/plain": [
       "3×3 Matrix{Float64}:\n",
       " 0.123091  0.20739   0.169031\n",
       " 0.492366  0.518476  0.507093\n",
       " 0.86164   0.829561  0.845154"
      ]
     },
     "execution_count": 9,
     "metadata": {},
     "output_type": "execute_result"
    }
   ],
   "source": [
    "GramSchmidt(A)"
   ]
  },
  {
   "cell_type": "code",
   "execution_count": null,
   "metadata": {},
   "outputs": [],
   "source": []
  }
 ],
 "metadata": {
  "kernelspec": {
   "display_name": "Julia 1.6.0",
   "language": "julia",
   "name": "julia-1.6"
  },
  "language_info": {
   "file_extension": ".jl",
   "mimetype": "application/julia",
   "name": "julia",
   "version": "1.6.1"
  }
 },
 "nbformat": 4,
 "nbformat_minor": 5
}
