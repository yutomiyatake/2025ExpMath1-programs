{
 "cells": [
  {
   "cell_type": "markdown",
   "metadata": {},
   "source": [
    "今週の講義は常微分方程式（ODEs: ordinary differential equations）の数値解法のベクトル編です．"
   ]
  },
  {
   "cell_type": "markdown",
   "metadata": {},
   "source": [
    "**課題**：以下のsymplectic Euler法の関数を完成させてください．"
   ]
  },
  {
   "cell_type": "markdown",
   "metadata": {},
   "source": [
    "時刻$T=3$まで数値計算することを考えます．いくつか変数を準備します．"
   ]
  },
  {
   "cell_type": "code",
   "execution_count": 10,
   "metadata": {},
   "outputs": [],
   "source": [
    "using Plots"
   ]
  },
  {
   "cell_type": "code",
   "execution_count": 11,
   "metadata": {},
   "outputs": [],
   "source": [
    "T =6.0;\n",
    "N = 60; # TやNは適当に変更して色々試してみてください\n",
    "h = T / N;\n",
    "t = 0:h:T;\n",
    "y0 = [1.0;0.0];"
   ]
  },
  {
   "cell_type": "code",
   "execution_count": 12,
   "metadata": {},
   "outputs": [
    {
     "data": {
      "text/plain": [
       "f (generic function with 1 method)"
      ]
     },
     "execution_count": 12,
     "metadata": {},
     "output_type": "execute_result"
    }
   ],
   "source": [
    "#右辺の関数を定義します．\n",
    "function f(y)\n",
    "    return [y[2] ; -y[1]]\n",
    "end"
   ]
  },
  {
   "cell_type": "code",
   "execution_count": 13,
   "metadata": {},
   "outputs": [],
   "source": [
    "# 数値解を格納する配列\n",
    "yEE = zeros(2, N+1); # 陽的Euler用\n",
    "yEE[:, 1] = y0; # 初期値\n",
    "yRK = zeros(2, N+1); # Runge--Kutta用\n",
    "yRK[:, 1] = y0; # 初期値\n",
    "ysE = zeros(2, N+1); # symplectic Euler用\n",
    "ysE[:, 1] = y0; # 初期値"
   ]
  },
  {
   "cell_type": "code",
   "execution_count": 14,
   "metadata": {},
   "outputs": [
    {
     "data": {
      "text/plain": [
       "ExEuler (generic function with 1 method)"
      ]
     },
     "execution_count": 14,
     "metadata": {},
     "output_type": "execute_result"
    }
   ],
   "source": [
    "# 陽的Euler法の一ステップ\n",
    "function ExEuler(y,h)\n",
    "    return y + h * f(y)\n",
    "end"
   ]
  },
  {
   "cell_type": "code",
   "execution_count": 15,
   "metadata": {},
   "outputs": [
    {
     "data": {
      "text/plain": [
       "RK (generic function with 1 method)"
      ]
     },
     "execution_count": 15,
     "metadata": {},
     "output_type": "execute_result"
    }
   ],
   "source": [
    "# Runge-Kutta法の一ステップ\n",
    "function RK(y,h)\n",
    "    Y1 = y\n",
    "    Y2 = y + h/2 * f(Y1)\n",
    "    Y3 = y + h/2 * f(Y2)\n",
    "    Y4 = y + h   * f(Y3)\n",
    "    return y + h/6 * (f(Y1) + 2*f(Y2) + 2*f(Y3) + f(Y4) )\n",
    "end"
   ]
  },
  {
   "cell_type": "code",
   "execution_count": 16,
   "metadata": {},
   "outputs": [
    {
     "data": {
      "text/plain": [
       "SymEuler (generic function with 1 method)"
      ]
     },
     "execution_count": 16,
     "metadata": {},
     "output_type": "execute_result"
    }
   ],
   "source": [
    "# symplectic Euler法の一ステップ (fは使わずに書く)\n",
    "function SymEuler(y,h)\n",
    "#     \n",
    "#     return \n",
    "end"
   ]
  },
  {
   "cell_type": "code",
   "execution_count": 17,
   "metadata": {},
   "outputs": [],
   "source": [
    "for n = 1 : N\n",
    "    yEE[:, n+1] = ExEuler(yEE[:, n],h)\n",
    "    yRK[:, n+1] = RK(yRK[:, n],h) \n",
    "#     ysE[:, n+1] = SymEuler(ysE[:, n],h) # 上のsymplectic Euler法の関数が完成したら一番左の # を消す．\n",
    "end"
   ]
  },
  {
   "cell_type": "code",
   "execution_count": 18,
   "metadata": {},
   "outputs": [
    {
     "data": {
      "image/svg+xml": [
       "<?xml version=\"1.0\" encoding=\"utf-8\"?>\n",
       "<svg xmlns=\"http://www.w3.org/2000/svg\" xmlns:xlink=\"http://www.w3.org/1999/xlink\" width=\"600\" height=\"400\" viewBox=\"0 0 2400 1600\">\n",
       "<defs>\n",
       "  <clipPath id=\"clip390\">\n",
       "    <rect x=\"0\" y=\"0\" width=\"2400\" height=\"1600\"/>\n",
       "  </clipPath>\n",
       "</defs>\n",
       "<path clip-path=\"url(#clip390)\" d=\"\n",
       "M0 1600 L2400 1600 L2400 0 L0 0  Z\n",
       "  \" fill=\"#ffffff\" fill-rule=\"evenodd\" fill-opacity=\"1\"/>\n",
       "<defs>\n",
       "  <clipPath id=\"clip391\">\n",
       "    <rect x=\"480\" y=\"0\" width=\"1681\" height=\"1600\"/>\n",
       "  </clipPath>\n",
       "</defs>\n",
       "<path clip-path=\"url(#clip390)\" d=\"\n",
       "M257.204 1423.18 L2352.76 1423.18 L2352.76 47.2441 L257.204 47.2441  Z\n",
       "  \" fill=\"#ffffff\" fill-rule=\"evenodd\" fill-opacity=\"1\"/>\n",
       "<defs>\n",
       "  <clipPath id=\"clip392\">\n",
       "    <rect x=\"257\" y=\"47\" width=\"2097\" height=\"1377\"/>\n",
       "  </clipPath>\n",
       "</defs>\n",
       "<polyline clip-path=\"url(#clip392)\" style=\"stroke:#000000; stroke-width:2; stroke-opacity:0.1; fill:none\" points=\"\n",
       "  454.256,1423.18 454.256,47.2441 \n",
       "  \"/>\n",
       "<polyline clip-path=\"url(#clip392)\" style=\"stroke:#000000; stroke-width:2; stroke-opacity:0.1; fill:none\" points=\"\n",
       "  856.455,1423.18 856.455,47.2441 \n",
       "  \"/>\n",
       "<polyline clip-path=\"url(#clip392)\" style=\"stroke:#000000; stroke-width:2; stroke-opacity:0.1; fill:none\" points=\"\n",
       "  1258.65,1423.18 1258.65,47.2441 \n",
       "  \"/>\n",
       "<polyline clip-path=\"url(#clip392)\" style=\"stroke:#000000; stroke-width:2; stroke-opacity:0.1; fill:none\" points=\"\n",
       "  1660.85,1423.18 1660.85,47.2441 \n",
       "  \"/>\n",
       "<polyline clip-path=\"url(#clip392)\" style=\"stroke:#000000; stroke-width:2; stroke-opacity:0.1; fill:none\" points=\"\n",
       "  2063.05,1423.18 2063.05,47.2441 \n",
       "  \"/>\n",
       "<polyline clip-path=\"url(#clip390)\" style=\"stroke:#000000; stroke-width:4; stroke-opacity:1; fill:none\" points=\"\n",
       "  257.204,1423.18 2352.76,1423.18 \n",
       "  \"/>\n",
       "<polyline clip-path=\"url(#clip390)\" style=\"stroke:#000000; stroke-width:4; stroke-opacity:1; fill:none\" points=\"\n",
       "  454.256,1423.18 454.256,1406.67 \n",
       "  \"/>\n",
       "<polyline clip-path=\"url(#clip390)\" style=\"stroke:#000000; stroke-width:4; stroke-opacity:1; fill:none\" points=\"\n",
       "  856.455,1423.18 856.455,1406.67 \n",
       "  \"/>\n",
       "<polyline clip-path=\"url(#clip390)\" style=\"stroke:#000000; stroke-width:4; stroke-opacity:1; fill:none\" points=\"\n",
       "  1258.65,1423.18 1258.65,1406.67 \n",
       "  \"/>\n",
       "<polyline clip-path=\"url(#clip390)\" style=\"stroke:#000000; stroke-width:4; stroke-opacity:1; fill:none\" points=\"\n",
       "  1660.85,1423.18 1660.85,1406.67 \n",
       "  \"/>\n",
       "<polyline clip-path=\"url(#clip390)\" style=\"stroke:#000000; stroke-width:4; stroke-opacity:1; fill:none\" points=\"\n",
       "  2063.05,1423.18 2063.05,1406.67 \n",
       "  \"/>\n",
       "<path clip-path=\"url(#clip390)\" d=\"M 0 0 M400.784 1467.02 L430.46 1467.02 L430.46 1470.96 L400.784 1470.96 L400.784 1467.02 Z\" fill=\"#000000\" fill-rule=\"evenodd\" fill-opacity=\"1\" /><path clip-path=\"url(#clip390)\" d=\"M 0 0 M441.363 1479.92 L449.002 1479.92 L449.002 1453.55 L440.692 1455.22 L440.692 1450.96 L448.955 1449.29 L453.631 1449.29 L453.631 1479.92 L461.27 1479.92 L461.27 1483.85 L441.363 1483.85 L441.363 1479.92 Z\" fill=\"#000000\" fill-rule=\"evenodd\" fill-opacity=\"1\" /><path clip-path=\"url(#clip390)\" d=\"M 0 0 M470.715 1477.97 L475.599 1477.97 L475.599 1483.85 L470.715 1483.85 L470.715 1477.97 Z\" fill=\"#000000\" fill-rule=\"evenodd\" fill-opacity=\"1\" /><path clip-path=\"url(#clip390)\" d=\"M 0 0 M495.784 1452.37 Q492.173 1452.37 490.344 1455.94 Q488.539 1459.48 488.539 1466.61 Q488.539 1473.71 490.344 1477.28 Q492.173 1480.82 495.784 1480.82 Q499.418 1480.82 501.224 1477.28 Q503.052 1473.71 503.052 1466.61 Q503.052 1459.48 501.224 1455.94 Q499.418 1452.37 495.784 1452.37 M495.784 1448.67 Q501.594 1448.67 504.65 1453.27 Q507.728 1457.86 507.728 1466.61 Q507.728 1475.33 504.65 1479.94 Q501.594 1484.52 495.784 1484.52 Q489.974 1484.52 486.895 1479.94 Q483.84 1475.33 483.84 1466.61 Q483.84 1457.86 486.895 1453.27 Q489.974 1448.67 495.784 1448.67 Z\" fill=\"#000000\" fill-rule=\"evenodd\" fill-opacity=\"1\" /><path clip-path=\"url(#clip390)\" d=\"M 0 0 M803.481 1467.02 L833.156 1467.02 L833.156 1470.96 L803.481 1470.96 L803.481 1467.02 Z\" fill=\"#000000\" fill-rule=\"evenodd\" fill-opacity=\"1\" /><path clip-path=\"url(#clip390)\" d=\"M 0 0 M853.249 1452.37 Q849.638 1452.37 847.809 1455.94 Q846.004 1459.48 846.004 1466.61 Q846.004 1473.71 847.809 1477.28 Q849.638 1480.82 853.249 1480.82 Q856.883 1480.82 858.689 1477.28 Q860.517 1473.71 860.517 1466.61 Q860.517 1459.48 858.689 1455.94 Q856.883 1452.37 853.249 1452.37 M853.249 1448.67 Q859.059 1448.67 862.115 1453.27 Q865.193 1457.86 865.193 1466.61 Q865.193 1475.33 862.115 1479.94 Q859.059 1484.52 853.249 1484.52 Q847.439 1484.52 844.36 1479.94 Q841.305 1475.33 841.305 1466.61 Q841.305 1457.86 844.36 1453.27 Q847.439 1448.67 853.249 1448.67 Z\" fill=\"#000000\" fill-rule=\"evenodd\" fill-opacity=\"1\" /><path clip-path=\"url(#clip390)\" d=\"M 0 0 M873.411 1477.97 L878.295 1477.97 L878.295 1483.85 L873.411 1483.85 L873.411 1477.97 Z\" fill=\"#000000\" fill-rule=\"evenodd\" fill-opacity=\"1\" /><path clip-path=\"url(#clip390)\" d=\"M 0 0 M888.527 1449.29 L906.883 1449.29 L906.883 1453.23 L892.809 1453.23 L892.809 1461.7 Q893.827 1461.35 894.846 1461.19 Q895.864 1461 896.883 1461 Q902.67 1461 906.05 1464.18 Q909.429 1467.35 909.429 1472.76 Q909.429 1478.34 905.957 1481.44 Q902.485 1484.52 896.165 1484.52 Q893.989 1484.52 891.721 1484.15 Q889.476 1483.78 887.068 1483.04 L887.068 1478.34 Q889.152 1479.48 891.374 1480.03 Q893.596 1480.59 896.073 1480.59 Q900.077 1480.59 902.415 1478.48 Q904.753 1476.38 904.753 1472.76 Q904.753 1469.15 902.415 1467.05 Q900.077 1464.94 896.073 1464.94 Q894.198 1464.94 892.323 1465.36 Q890.471 1465.77 888.527 1466.65 L888.527 1449.29 Z\" fill=\"#000000\" fill-rule=\"evenodd\" fill-opacity=\"1\" /><path clip-path=\"url(#clip390)\" d=\"M 0 0 M1236.04 1452.37 Q1232.43 1452.37 1230.6 1455.94 Q1228.79 1459.48 1228.79 1466.61 Q1228.79 1473.71 1230.6 1477.28 Q1232.43 1480.82 1236.04 1480.82 Q1239.67 1480.82 1241.48 1477.28 Q1243.31 1473.71 1243.31 1466.61 Q1243.31 1459.48 1241.48 1455.94 Q1239.67 1452.37 1236.04 1452.37 M1236.04 1448.67 Q1241.85 1448.67 1244.9 1453.27 Q1247.98 1457.86 1247.98 1466.61 Q1247.98 1475.33 1244.9 1479.94 Q1241.85 1484.52 1236.04 1484.52 Q1230.23 1484.52 1227.15 1479.94 Q1224.09 1475.33 1224.09 1466.61 Q1224.09 1457.86 1227.15 1453.27 Q1230.23 1448.67 1236.04 1448.67 Z\" fill=\"#000000\" fill-rule=\"evenodd\" fill-opacity=\"1\" /><path clip-path=\"url(#clip390)\" d=\"M 0 0 M1256.2 1477.97 L1261.08 1477.97 L1261.08 1483.85 L1256.2 1483.85 L1256.2 1477.97 Z\" fill=\"#000000\" fill-rule=\"evenodd\" fill-opacity=\"1\" /><path clip-path=\"url(#clip390)\" d=\"M 0 0 M1281.27 1452.37 Q1277.66 1452.37 1275.83 1455.94 Q1274.02 1459.48 1274.02 1466.61 Q1274.02 1473.71 1275.83 1477.28 Q1277.66 1480.82 1281.27 1480.82 Q1284.9 1480.82 1286.71 1477.28 Q1288.54 1473.71 1288.54 1466.61 Q1288.54 1459.48 1286.71 1455.94 Q1284.9 1452.37 1281.27 1452.37 M1281.27 1448.67 Q1287.08 1448.67 1290.13 1453.27 Q1293.21 1457.86 1293.21 1466.61 Q1293.21 1475.33 1290.13 1479.94 Q1287.08 1484.52 1281.27 1484.52 Q1275.46 1484.52 1272.38 1479.94 Q1269.32 1475.33 1269.32 1466.61 Q1269.32 1457.86 1272.38 1453.27 Q1275.46 1448.67 1281.27 1448.67 Z\" fill=\"#000000\" fill-rule=\"evenodd\" fill-opacity=\"1\" /><path clip-path=\"url(#clip390)\" d=\"M 0 0 M1638.73 1452.37 Q1635.12 1452.37 1633.29 1455.94 Q1631.49 1459.48 1631.49 1466.61 Q1631.49 1473.71 1633.29 1477.28 Q1635.12 1480.82 1638.73 1480.82 Q1642.37 1480.82 1644.17 1477.28 Q1646 1473.71 1646 1466.61 Q1646 1459.48 1644.17 1455.94 Q1642.37 1452.37 1638.73 1452.37 M1638.73 1448.67 Q1644.54 1448.67 1647.6 1453.27 Q1650.68 1457.86 1650.68 1466.61 Q1650.68 1475.33 1647.6 1479.94 Q1644.54 1484.52 1638.73 1484.52 Q1632.92 1484.52 1629.85 1479.94 Q1626.79 1475.33 1626.79 1466.61 Q1626.79 1457.86 1629.85 1453.27 Q1632.92 1448.67 1638.73 1448.67 Z\" fill=\"#000000\" fill-rule=\"evenodd\" fill-opacity=\"1\" /><path clip-path=\"url(#clip390)\" d=\"M 0 0 M1658.9 1477.97 L1663.78 1477.97 L1663.78 1483.85 L1658.9 1483.85 L1658.9 1477.97 Z\" fill=\"#000000\" fill-rule=\"evenodd\" fill-opacity=\"1\" /><path clip-path=\"url(#clip390)\" d=\"M 0 0 M1674.01 1449.29 L1692.37 1449.29 L1692.37 1453.23 L1678.29 1453.23 L1678.29 1461.7 Q1679.31 1461.35 1680.33 1461.19 Q1681.35 1461 1682.37 1461 Q1688.16 1461 1691.53 1464.18 Q1694.91 1467.35 1694.91 1472.76 Q1694.91 1478.34 1691.44 1481.44 Q1687.97 1484.52 1681.65 1484.52 Q1679.47 1484.52 1677.21 1484.15 Q1674.96 1483.78 1672.55 1483.04 L1672.55 1478.34 Q1674.64 1479.48 1676.86 1480.03 Q1679.08 1480.59 1681.56 1480.59 Q1685.56 1480.59 1687.9 1478.48 Q1690.24 1476.38 1690.24 1472.76 Q1690.24 1469.15 1687.9 1467.05 Q1685.56 1464.94 1681.56 1464.94 Q1679.68 1464.94 1677.81 1465.36 Q1675.96 1465.77 1674.01 1466.65 L1674.01 1449.29 Z\" fill=\"#000000\" fill-rule=\"evenodd\" fill-opacity=\"1\" /><path clip-path=\"url(#clip390)\" d=\"M 0 0 M2030.2 1479.92 L2037.84 1479.92 L2037.84 1453.55 L2029.53 1455.22 L2029.53 1450.96 L2037.8 1449.29 L2042.47 1449.29 L2042.47 1479.92 L2050.11 1479.92 L2050.11 1483.85 L2030.2 1483.85 L2030.2 1479.92 Z\" fill=\"#000000\" fill-rule=\"evenodd\" fill-opacity=\"1\" /><path clip-path=\"url(#clip390)\" d=\"M 0 0 M2059.56 1477.97 L2064.44 1477.97 L2064.44 1483.85 L2059.56 1483.85 L2059.56 1477.97 Z\" fill=\"#000000\" fill-rule=\"evenodd\" fill-opacity=\"1\" /><path clip-path=\"url(#clip390)\" d=\"M 0 0 M2084.62 1452.37 Q2081.01 1452.37 2079.19 1455.94 Q2077.38 1459.48 2077.38 1466.61 Q2077.38 1473.71 2079.19 1477.28 Q2081.01 1480.82 2084.62 1480.82 Q2088.26 1480.82 2090.06 1477.28 Q2091.89 1473.71 2091.89 1466.61 Q2091.89 1459.48 2090.06 1455.94 Q2088.26 1452.37 2084.62 1452.37 M2084.62 1448.67 Q2090.43 1448.67 2093.49 1453.27 Q2096.57 1457.86 2096.57 1466.61 Q2096.57 1475.33 2093.49 1479.94 Q2090.43 1484.52 2084.62 1484.52 Q2078.81 1484.52 2075.74 1479.94 Q2072.68 1475.33 2072.68 1466.61 Q2072.68 1457.86 2075.74 1453.27 Q2078.81 1448.67 2084.62 1448.67 Z\" fill=\"#000000\" fill-rule=\"evenodd\" fill-opacity=\"1\" /><path clip-path=\"url(#clip390)\" d=\"M 0 0 M1295.1 1550.25 Q1295.1 1556.71 1297.74 1560.4 Q1300.41 1564.07 1305.06 1564.07 Q1309.71 1564.07 1312.38 1560.4 Q1315.05 1556.71 1315.05 1550.25 Q1315.05 1543.79 1312.38 1540.13 Q1309.71 1536.44 1305.06 1536.44 Q1300.41 1536.44 1297.74 1540.13 Q1295.1 1543.79 1295.1 1550.25 M1315.05 1562.7 Q1313.21 1565.88 1310.37 1567.44 Q1307.57 1568.97 1303.63 1568.97 Q1297.17 1568.97 1293.09 1563.81 Q1289.05 1558.65 1289.05 1550.25 Q1289.05 1541.85 1293.09 1536.69 Q1297.17 1531.54 1303.63 1531.54 Q1307.57 1531.54 1310.37 1533.1 Q1313.21 1534.62 1315.05 1537.81 L1315.05 1532.4 L1320.91 1532.4 L1320.91 1581.6 L1315.05 1581.6 L1315.05 1562.7 Z\" fill=\"#000000\" fill-rule=\"evenodd\" fill-opacity=\"1\" /><polyline clip-path=\"url(#clip392)\" style=\"stroke:#000000; stroke-width:2; stroke-opacity:0.1; fill:none\" points=\"\n",
       "  257.204,1338.62 2352.76,1338.62 \n",
       "  \"/>\n",
       "<polyline clip-path=\"url(#clip392)\" style=\"stroke:#000000; stroke-width:2; stroke-opacity:0.1; fill:none\" points=\"\n",
       "  257.204,1062.33 2352.76,1062.33 \n",
       "  \"/>\n",
       "<polyline clip-path=\"url(#clip392)\" style=\"stroke:#000000; stroke-width:2; stroke-opacity:0.1; fill:none\" points=\"\n",
       "  257.204,786.03 2352.76,786.03 \n",
       "  \"/>\n",
       "<polyline clip-path=\"url(#clip392)\" style=\"stroke:#000000; stroke-width:2; stroke-opacity:0.1; fill:none\" points=\"\n",
       "  257.204,509.733 2352.76,509.733 \n",
       "  \"/>\n",
       "<polyline clip-path=\"url(#clip392)\" style=\"stroke:#000000; stroke-width:2; stroke-opacity:0.1; fill:none\" points=\"\n",
       "  257.204,233.436 2352.76,233.436 \n",
       "  \"/>\n",
       "<polyline clip-path=\"url(#clip390)\" style=\"stroke:#000000; stroke-width:4; stroke-opacity:1; fill:none\" points=\"\n",
       "  257.204,1423.18 257.204,47.2441 \n",
       "  \"/>\n",
       "<polyline clip-path=\"url(#clip390)\" style=\"stroke:#000000; stroke-width:4; stroke-opacity:1; fill:none\" points=\"\n",
       "  257.204,1338.62 282.351,1338.62 \n",
       "  \"/>\n",
       "<polyline clip-path=\"url(#clip390)\" style=\"stroke:#000000; stroke-width:4; stroke-opacity:1; fill:none\" points=\"\n",
       "  257.204,1062.33 282.351,1062.33 \n",
       "  \"/>\n",
       "<polyline clip-path=\"url(#clip390)\" style=\"stroke:#000000; stroke-width:4; stroke-opacity:1; fill:none\" points=\"\n",
       "  257.204,786.03 282.351,786.03 \n",
       "  \"/>\n",
       "<polyline clip-path=\"url(#clip390)\" style=\"stroke:#000000; stroke-width:4; stroke-opacity:1; fill:none\" points=\"\n",
       "  257.204,509.733 282.351,509.733 \n",
       "  \"/>\n",
       "<polyline clip-path=\"url(#clip390)\" style=\"stroke:#000000; stroke-width:4; stroke-opacity:1; fill:none\" points=\"\n",
       "  257.204,233.436 282.351,233.436 \n",
       "  \"/>\n",
       "<path clip-path=\"url(#clip390)\" d=\"M 0 0 M114.26 1339.07 L143.936 1339.07 L143.936 1343.01 L114.26 1343.01 L114.26 1339.07 Z\" fill=\"#000000\" fill-rule=\"evenodd\" fill-opacity=\"1\" /><path clip-path=\"url(#clip390)\" d=\"M 0 0 M154.839 1351.97 L162.477 1351.97 L162.477 1325.6 L154.167 1327.27 L154.167 1323.01 L162.431 1321.34 L167.107 1321.34 L167.107 1351.97 L174.746 1351.97 L174.746 1355.9 L154.839 1355.9 L154.839 1351.97 Z\" fill=\"#000000\" fill-rule=\"evenodd\" fill-opacity=\"1\" /><path clip-path=\"url(#clip390)\" d=\"M 0 0 M184.19 1350.02 L189.075 1350.02 L189.075 1355.9 L184.19 1355.9 L184.19 1350.02 Z\" fill=\"#000000\" fill-rule=\"evenodd\" fill-opacity=\"1\" /><path clip-path=\"url(#clip390)\" d=\"M 0 0 M209.26 1324.42 Q205.649 1324.42 203.82 1327.99 Q202.014 1331.53 202.014 1338.66 Q202.014 1345.76 203.82 1349.33 Q205.649 1352.87 209.26 1352.87 Q212.894 1352.87 214.699 1349.33 Q216.528 1345.76 216.528 1338.66 Q216.528 1331.53 214.699 1327.99 Q212.894 1324.42 209.26 1324.42 M209.26 1320.72 Q215.07 1320.72 218.125 1325.32 Q221.204 1329.91 221.204 1338.66 Q221.204 1347.38 218.125 1351.99 Q215.07 1356.57 209.26 1356.57 Q203.449 1356.57 200.371 1351.99 Q197.315 1347.38 197.315 1338.66 Q197.315 1329.91 200.371 1325.32 Q203.449 1320.72 209.26 1320.72 Z\" fill=\"#000000\" fill-rule=\"evenodd\" fill-opacity=\"1\" /><path clip-path=\"url(#clip390)\" d=\"M 0 0 M115.256 1062.78 L144.931 1062.78 L144.931 1066.71 L115.256 1066.71 L115.256 1062.78 Z\" fill=\"#000000\" fill-rule=\"evenodd\" fill-opacity=\"1\" /><path clip-path=\"url(#clip390)\" d=\"M 0 0 M165.024 1048.13 Q161.413 1048.13 159.584 1051.69 Q157.778 1055.23 157.778 1062.36 Q157.778 1069.47 159.584 1073.03 Q161.413 1076.57 165.024 1076.57 Q168.658 1076.57 170.464 1073.03 Q172.292 1069.47 172.292 1062.36 Q172.292 1055.23 170.464 1051.69 Q168.658 1048.13 165.024 1048.13 M165.024 1044.42 Q170.834 1044.42 173.889 1049.03 Q176.968 1053.61 176.968 1062.36 Q176.968 1071.09 173.889 1075.69 Q170.834 1080.28 165.024 1080.28 Q159.214 1080.28 156.135 1075.69 Q153.079 1071.09 153.079 1062.36 Q153.079 1053.61 156.135 1049.03 Q159.214 1044.42 165.024 1044.42 Z\" fill=\"#000000\" fill-rule=\"evenodd\" fill-opacity=\"1\" /><path clip-path=\"url(#clip390)\" d=\"M 0 0 M185.186 1073.73 L190.07 1073.73 L190.07 1079.61 L185.186 1079.61 L185.186 1073.73 Z\" fill=\"#000000\" fill-rule=\"evenodd\" fill-opacity=\"1\" /><path clip-path=\"url(#clip390)\" d=\"M 0 0 M200.301 1045.05 L218.658 1045.05 L218.658 1048.98 L204.584 1048.98 L204.584 1057.45 Q205.602 1057.11 206.621 1056.94 Q207.639 1056.76 208.658 1056.76 Q214.445 1056.76 217.824 1059.93 Q221.204 1063.1 221.204 1068.52 Q221.204 1074.1 217.732 1077.2 Q214.26 1080.28 207.94 1080.28 Q205.764 1080.28 203.496 1079.91 Q201.25 1079.54 198.843 1078.8 L198.843 1074.1 Q200.926 1075.23 203.149 1075.79 Q205.371 1076.34 207.848 1076.34 Q211.852 1076.34 214.19 1074.24 Q216.528 1072.13 216.528 1068.52 Q216.528 1064.91 214.19 1062.8 Q211.852 1060.69 207.848 1060.69 Q205.973 1060.69 204.098 1061.11 Q202.246 1061.53 200.301 1062.41 L200.301 1045.05 Z\" fill=\"#000000\" fill-rule=\"evenodd\" fill-opacity=\"1\" /><path clip-path=\"url(#clip390)\" d=\"M 0 0 M164.028 771.828 Q160.417 771.828 158.589 775.393 Q156.783 778.935 156.783 786.064 Q156.783 793.171 158.589 796.736 Q160.417 800.277 164.028 800.277 Q167.663 800.277 169.468 796.736 Q171.297 793.171 171.297 786.064 Q171.297 778.935 169.468 775.393 Q167.663 771.828 164.028 771.828 M164.028 768.125 Q169.839 768.125 172.894 772.731 Q175.973 777.314 175.973 786.064 Q175.973 794.791 172.894 799.398 Q169.839 803.981 164.028 803.981 Q158.218 803.981 155.14 799.398 Q152.084 794.791 152.084 786.064 Q152.084 777.314 155.14 772.731 Q158.218 768.125 164.028 768.125 Z\" fill=\"#000000\" fill-rule=\"evenodd\" fill-opacity=\"1\" /><path clip-path=\"url(#clip390)\" d=\"M 0 0 M184.19 797.43 L189.075 797.43 L189.075 803.31 L184.19 803.31 L184.19 797.43 Z\" fill=\"#000000\" fill-rule=\"evenodd\" fill-opacity=\"1\" /><path clip-path=\"url(#clip390)\" d=\"M 0 0 M209.26 771.828 Q205.649 771.828 203.82 775.393 Q202.014 778.935 202.014 786.064 Q202.014 793.171 203.82 796.736 Q205.649 800.277 209.26 800.277 Q212.894 800.277 214.699 796.736 Q216.528 793.171 216.528 786.064 Q216.528 778.935 214.699 775.393 Q212.894 771.828 209.26 771.828 M209.26 768.125 Q215.07 768.125 218.125 772.731 Q221.204 777.314 221.204 786.064 Q221.204 794.791 218.125 799.398 Q215.07 803.981 209.26 803.981 Q203.449 803.981 200.371 799.398 Q197.315 794.791 197.315 786.064 Q197.315 777.314 200.371 772.731 Q203.449 768.125 209.26 768.125 Z\" fill=\"#000000\" fill-rule=\"evenodd\" fill-opacity=\"1\" /><path clip-path=\"url(#clip390)\" d=\"M 0 0 M165.024 495.532 Q161.413 495.532 159.584 499.096 Q157.778 502.638 157.778 509.768 Q157.778 516.874 159.584 520.439 Q161.413 523.981 165.024 523.981 Q168.658 523.981 170.464 520.439 Q172.292 516.874 172.292 509.768 Q172.292 502.638 170.464 499.096 Q168.658 495.532 165.024 495.532 M165.024 491.828 Q170.834 491.828 173.889 496.434 Q176.968 501.018 176.968 509.768 Q176.968 518.494 173.889 523.101 Q170.834 527.684 165.024 527.684 Q159.214 527.684 156.135 523.101 Q153.079 518.494 153.079 509.768 Q153.079 501.018 156.135 496.434 Q159.214 491.828 165.024 491.828 Z\" fill=\"#000000\" fill-rule=\"evenodd\" fill-opacity=\"1\" /><path clip-path=\"url(#clip390)\" d=\"M 0 0 M185.186 521.133 L190.07 521.133 L190.07 527.013 L185.186 527.013 L185.186 521.133 Z\" fill=\"#000000\" fill-rule=\"evenodd\" fill-opacity=\"1\" /><path clip-path=\"url(#clip390)\" d=\"M 0 0 M200.301 492.453 L218.658 492.453 L218.658 496.388 L204.584 496.388 L204.584 504.86 Q205.602 504.513 206.621 504.351 Q207.639 504.166 208.658 504.166 Q214.445 504.166 217.824 507.337 Q221.204 510.508 221.204 515.925 Q221.204 521.504 217.732 524.606 Q214.26 527.684 207.94 527.684 Q205.764 527.684 203.496 527.314 Q201.25 526.943 198.843 526.203 L198.843 521.504 Q200.926 522.638 203.149 523.193 Q205.371 523.749 207.848 523.749 Q211.852 523.749 214.19 521.643 Q216.528 519.536 216.528 515.925 Q216.528 512.314 214.19 510.207 Q211.852 508.101 207.848 508.101 Q205.973 508.101 204.098 508.518 Q202.246 508.934 200.301 509.814 L200.301 492.453 Z\" fill=\"#000000\" fill-rule=\"evenodd\" fill-opacity=\"1\" /><path clip-path=\"url(#clip390)\" d=\"M 0 0 M154.839 246.781 L162.477 246.781 L162.477 220.415 L154.167 222.082 L154.167 217.823 L162.431 216.156 L167.107 216.156 L167.107 246.781 L174.746 246.781 L174.746 250.716 L154.839 250.716 L154.839 246.781 Z\" fill=\"#000000\" fill-rule=\"evenodd\" fill-opacity=\"1\" /><path clip-path=\"url(#clip390)\" d=\"M 0 0 M184.19 244.837 L189.075 244.837 L189.075 250.716 L184.19 250.716 L184.19 244.837 Z\" fill=\"#000000\" fill-rule=\"evenodd\" fill-opacity=\"1\" /><path clip-path=\"url(#clip390)\" d=\"M 0 0 M209.26 219.235 Q205.649 219.235 203.82 222.8 Q202.014 226.341 202.014 233.471 Q202.014 240.577 203.82 244.142 Q205.649 247.684 209.26 247.684 Q212.894 247.684 214.699 244.142 Q216.528 240.577 216.528 233.471 Q216.528 226.341 214.699 222.8 Q212.894 219.235 209.26 219.235 M209.26 215.531 Q215.07 215.531 218.125 220.138 Q221.204 224.721 221.204 233.471 Q221.204 242.198 218.125 246.804 Q215.07 251.387 209.26 251.387 Q203.449 251.387 200.371 246.804 Q197.315 242.198 197.315 233.471 Q197.315 224.721 200.371 220.138 Q203.449 215.531 209.26 215.531 Z\" fill=\"#000000\" fill-rule=\"evenodd\" fill-opacity=\"1\" /><path clip-path=\"url(#clip390)\" d=\"M 0 0 M58.657 745.27 L77.5631 745.27 L77.5631 751.158 L28.3562 751.158 L28.3562 745.27 L33.7671 745.27 Q30.5842 743.424 29.0564 740.623 Q27.4968 737.79 27.4968 733.875 Q27.4968 727.382 32.6531 723.34 Q37.8093 719.266 46.212 719.266 Q54.6147 719.266 59.771 723.34 Q64.9272 727.382 64.9272 733.875 Q64.9272 737.79 63.3994 740.623 Q61.8398 743.424 58.657 745.27 M46.212 725.345 Q39.7508 725.345 36.0905 728.019 Q32.3984 730.66 32.3984 735.307 Q32.3984 739.954 36.0905 742.628 Q39.7508 745.27 46.212 745.27 Q52.6732 745.27 56.3653 742.628 Q60.0256 739.954 60.0256 735.307 Q60.0256 730.66 56.3653 728.019 Q52.6732 725.345 46.212 725.345 Z\" fill=\"#000000\" fill-rule=\"evenodd\" fill-opacity=\"1\" /><polyline clip-path=\"url(#clip392)\" style=\"stroke:#009af9; stroke-width:4; stroke-opacity:1; fill:none\" points=\"\n",
       "  2063.05,786.03 2059.03,841.197 2047.02,895.813 2027.12,949.332 1999.55,1001.22 1964.58,1050.96 1922.55,1098.05 1873.89,1142.02 1819.08,1182.44 1758.67,1218.89 \n",
       "  1693.27,1251.02 1623.53,1278.51 1550.13,1301.07 1473.83,1318.49 1395.37,1330.58 1315.55,1337.24 1235.17,1338.39 1155.01,1334.02 1075.89,1324.17 998.6,1308.95 \n",
       "  923.906,1288.5 852.557,1263.03 785.265,1232.8 722.703,1198.1 665.496,1159.29 614.216,1116.74 569.375,1070.89 531.42,1022.2 500.733,971.142 477.618,918.237 \n",
       "  462.306,864.012 454.952,809.007 455.628,753.772 464.328,698.86 480.964,644.819 505.37,592.189 537.304,541.496 576.444,493.246 622.401,447.921 674.716,405.975 \n",
       "  732.864,367.826 796.267,333.855 864.289,304.403 936.252,279.762 1011.44,260.181 1089.09,245.853 1168.44,236.922 1248.69,233.479 1329.04,235.556 1408.68,243.133 \n",
       "  1486.83,256.134 1562.7,274.431 1635.53,297.838 1704.59,326.124 1769.2,359.005 1828.71,396.153 1882.52,437.196 1930.09,481.724 1970.96,529.294 2004.71,579.428 \n",
       "  2031.01,631.626 \n",
       "  \"/>\n",
       "<circle clip-path=\"url(#clip392)\" cx=\"2063.05\" cy=\"786.03\" r=\"14\" fill=\"#e26f46\" fill-rule=\"evenodd\" fill-opacity=\"1\" stroke=\"#000000\" stroke-opacity=\"1\" stroke-width=\"3.2\"/>\n",
       "<circle clip-path=\"url(#clip392)\" cx=\"2063.05\" cy=\"841.289\" r=\"14\" fill=\"#e26f46\" fill-rule=\"evenodd\" fill-opacity=\"1\" stroke=\"#000000\" stroke-opacity=\"1\" stroke-width=\"3.2\"/>\n",
       "<circle clip-path=\"url(#clip392)\" cx=\"2055.01\" cy=\"896.548\" r=\"14\" fill=\"#e26f46\" fill-rule=\"evenodd\" fill-opacity=\"1\" stroke=\"#000000\" stroke-opacity=\"1\" stroke-width=\"3.2\"/>\n",
       "<circle clip-path=\"url(#clip392)\" cx=\"2038.92\" cy=\"951.255\" r=\"14\" fill=\"#e26f46\" fill-rule=\"evenodd\" fill-opacity=\"1\" stroke=\"#000000\" stroke-opacity=\"1\" stroke-width=\"3.2\"/>\n",
       "<circle clip-path=\"url(#clip392)\" cx=\"2014.87\" cy=\"1004.86\" r=\"14\" fill=\"#e26f46\" fill-rule=\"evenodd\" fill-opacity=\"1\" stroke=\"#000000\" stroke-opacity=\"1\" stroke-width=\"3.2\"/>\n",
       "<circle clip-path=\"url(#clip392)\" cx=\"1983.01\" cy=\"1056.81\" r=\"14\" fill=\"#e26f46\" fill-rule=\"evenodd\" fill-opacity=\"1\" stroke=\"#000000\" stroke-opacity=\"1\" stroke-width=\"3.2\"/>\n",
       "<circle clip-path=\"url(#clip392)\" cx=\"1943.6\" cy=\"1106.57\" r=\"14\" fill=\"#e26f46\" fill-rule=\"evenodd\" fill-opacity=\"1\" stroke=\"#000000\" stroke-opacity=\"1\" stroke-width=\"3.2\"/>\n",
       "<circle clip-path=\"url(#clip392)\" cx=\"1896.94\" cy=\"1153.62\" r=\"14\" fill=\"#e26f46\" fill-rule=\"evenodd\" fill-opacity=\"1\" stroke=\"#000000\" stroke-opacity=\"1\" stroke-width=\"3.2\"/>\n",
       "<circle clip-path=\"url(#clip392)\" cx=\"1843.43\" cy=\"1197.47\" r=\"14\" fill=\"#e26f46\" fill-rule=\"evenodd\" fill-opacity=\"1\" stroke=\"#000000\" stroke-opacity=\"1\" stroke-width=\"3.2\"/>\n",
       "<circle clip-path=\"url(#clip392)\" cx=\"1783.54\" cy=\"1237.64\" r=\"14\" fill=\"#e26f46\" fill-rule=\"evenodd\" fill-opacity=\"1\" stroke=\"#000000\" stroke-opacity=\"1\" stroke-width=\"3.2\"/>\n",
       "<circle clip-path=\"url(#clip392)\" cx=\"1717.8\" cy=\"1273.7\" r=\"14\" fill=\"#e26f46\" fill-rule=\"evenodd\" fill-opacity=\"1\" stroke=\"#000000\" stroke-opacity=\"1\" stroke-width=\"3.2\"/>\n",
       "<circle clip-path=\"url(#clip392)\" cx=\"1646.81\" cy=\"1305.24\" r=\"14\" fill=\"#e26f46\" fill-rule=\"evenodd\" fill-opacity=\"1\" stroke=\"#000000\" stroke-opacity=\"1\" stroke-width=\"3.2\"/>\n",
       "<circle clip-path=\"url(#clip392)\" cx=\"1571.23\" cy=\"1331.9\" r=\"14\" fill=\"#e26f46\" fill-rule=\"evenodd\" fill-opacity=\"1\" stroke=\"#000000\" stroke-opacity=\"1\" stroke-width=\"3.2\"/>\n",
       "<circle clip-path=\"url(#clip392)\" cx=\"1491.77\" cy=\"1353.38\" r=\"14\" fill=\"#e26f46\" fill-rule=\"evenodd\" fill-opacity=\"1\" stroke=\"#000000\" stroke-opacity=\"1\" stroke-width=\"3.2\"/>\n",
       "<circle clip-path=\"url(#clip392)\" cx=\"1409.18\" cy=\"1369.39\" r=\"14\" fill=\"#e26f46\" fill-rule=\"evenodd\" fill-opacity=\"1\" stroke=\"#000000\" stroke-opacity=\"1\" stroke-width=\"3.2\"/>\n",
       "<circle clip-path=\"url(#clip392)\" cx=\"1324.26\" cy=\"1379.73\" r=\"14\" fill=\"#e26f46\" fill-rule=\"evenodd\" fill-opacity=\"1\" stroke=\"#000000\" stroke-opacity=\"1\" stroke-width=\"3.2\"/>\n",
       "<circle clip-path=\"url(#clip392)\" cx=\"1237.84\" cy=\"1384.24\" r=\"14\" fill=\"#e26f46\" fill-rule=\"evenodd\" fill-opacity=\"1\" stroke=\"#000000\" stroke-opacity=\"1\" stroke-width=\"3.2\"/>\n",
       "<circle clip-path=\"url(#clip392)\" cx=\"1150.76\" cy=\"1382.81\" r=\"14\" fill=\"#e26f46\" fill-rule=\"evenodd\" fill-opacity=\"1\" stroke=\"#000000\" stroke-opacity=\"1\" stroke-width=\"3.2\"/>\n",
       "<circle clip-path=\"url(#clip392)\" cx=\"1063.88\" cy=\"1375.4\" r=\"14\" fill=\"#e26f46\" fill-rule=\"evenodd\" fill-opacity=\"1\" stroke=\"#000000\" stroke-opacity=\"1\" stroke-width=\"3.2\"/>\n",
       "<circle clip-path=\"url(#clip392)\" cx=\"978.092\" cy=\"1362.02\" r=\"14\" fill=\"#e26f46\" fill-rule=\"evenodd\" fill-opacity=\"1\" stroke=\"#000000\" stroke-opacity=\"1\" stroke-width=\"3.2\"/>\n",
       "<circle clip-path=\"url(#clip392)\" cx=\"894.247\" cy=\"1342.74\" r=\"14\" fill=\"#e26f46\" fill-rule=\"evenodd\" fill-opacity=\"1\" stroke=\"#000000\" stroke-opacity=\"1\" stroke-width=\"3.2\"/>\n",
       "<circle clip-path=\"url(#clip392)\" cx=\"813.207\" cy=\"1317.71\" r=\"14\" fill=\"#e26f46\" fill-rule=\"evenodd\" fill-opacity=\"1\" stroke=\"#000000\" stroke-opacity=\"1\" stroke-width=\"3.2\"/>\n",
       "<circle clip-path=\"url(#clip392)\" cx=\"735.812\" cy=\"1287.11\" r=\"14\" fill=\"#e26f46\" fill-rule=\"evenodd\" fill-opacity=\"1\" stroke=\"#000000\" stroke-opacity=\"1\" stroke-width=\"3.2\"/>\n",
       "<circle clip-path=\"url(#clip392)\" cx=\"662.871\" cy=\"1251.19\" r=\"14\" fill=\"#e26f46\" fill-rule=\"evenodd\" fill-opacity=\"1\" stroke=\"#000000\" stroke-opacity=\"1\" stroke-width=\"3.2\"/>\n",
       "<circle clip-path=\"url(#clip392)\" cx=\"595.159\" cy=\"1210.26\" r=\"14\" fill=\"#e26f46\" fill-rule=\"evenodd\" fill-opacity=\"1\" stroke=\"#000000\" stroke-opacity=\"1\" stroke-width=\"3.2\"/>\n",
       "<circle clip-path=\"url(#clip392)\" cx=\"533.404\" cy=\"1164.68\" r=\"14\" fill=\"#e26f46\" fill-rule=\"evenodd\" fill-opacity=\"1\" stroke=\"#000000\" stroke-opacity=\"1\" stroke-width=\"3.2\"/>\n",
       "<circle clip-path=\"url(#clip392)\" cx=\"478.285\" cy=\"1114.86\" r=\"14\" fill=\"#e26f46\" fill-rule=\"evenodd\" fill-opacity=\"1\" stroke=\"#000000\" stroke-opacity=\"1\" stroke-width=\"3.2\"/>\n",
       "<circle clip-path=\"url(#clip392)\" cx=\"430.417\" cy=\"1061.25\" r=\"14\" fill=\"#e26f46\" fill-rule=\"evenodd\" fill-opacity=\"1\" stroke=\"#000000\" stroke-opacity=\"1\" stroke-width=\"3.2\"/>\n",
       "<circle clip-path=\"url(#clip392)\" cx=\"390.354\" cy=\"1004.35\" r=\"14\" fill=\"#e26f46\" fill-rule=\"evenodd\" fill-opacity=\"1\" stroke=\"#000000\" stroke-opacity=\"1\" stroke-width=\"3.2\"/>\n",
       "<circle clip-path=\"url(#clip392)\" cx=\"358.573\" cy=\"944.706\" r=\"14\" fill=\"#e26f46\" fill-rule=\"evenodd\" fill-opacity=\"1\" stroke=\"#000000\" stroke-opacity=\"1\" stroke-width=\"3.2\"/>\n",
       "<circle clip-path=\"url(#clip392)\" cx=\"335.475\" cy=\"882.873\" r=\"14\" fill=\"#e26f46\" fill-rule=\"evenodd\" fill-opacity=\"1\" stroke=\"#000000\" stroke-opacity=\"1\" stroke-width=\"3.2\"/>\n",
       "<circle clip-path=\"url(#clip392)\" cx=\"321.378\" cy=\"819.454\" r=\"14\" fill=\"#e26f46\" fill-rule=\"evenodd\" fill-opacity=\"1\" stroke=\"#000000\" stroke-opacity=\"1\" stroke-width=\"3.2\"/>\n",
       "<circle clip-path=\"url(#clip392)\" cx=\"316.512\" cy=\"755.066\" r=\"14\" fill=\"#e26f46\" fill-rule=\"evenodd\" fill-opacity=\"1\" stroke=\"#000000\" stroke-opacity=\"1\" stroke-width=\"3.2\"/>\n",
       "<circle clip-path=\"url(#clip392)\" cx=\"321.019\" cy=\"690.344\" r=\"14\" fill=\"#e26f46\" fill-rule=\"evenodd\" fill-opacity=\"1\" stroke=\"#000000\" stroke-opacity=\"1\" stroke-width=\"3.2\"/>\n",
       "<circle clip-path=\"url(#clip392)\" cx=\"334.948\" cy=\"625.932\" r=\"14\" fill=\"#e26f46\" fill-rule=\"evenodd\" fill-opacity=\"1\" stroke=\"#000000\" stroke-opacity=\"1\" stroke-width=\"3.2\"/>\n",
       "<circle clip-path=\"url(#clip392)\" cx=\"358.253\" cy=\"562.477\" r=\"14\" fill=\"#e26f46\" fill-rule=\"evenodd\" fill-opacity=\"1\" stroke=\"#000000\" stroke-opacity=\"1\" stroke-width=\"3.2\"/>\n",
       "<circle clip-path=\"url(#clip392)\" cx=\"390.795\" cy=\"500.622\" r=\"14\" fill=\"#e26f46\" fill-rule=\"evenodd\" fill-opacity=\"1\" stroke=\"#000000\" stroke-opacity=\"1\" stroke-width=\"3.2\"/>\n",
       "<circle clip-path=\"url(#clip392)\" cx=\"432.341\" cy=\"441.003\" r=\"14\" fill=\"#e26f46\" fill-rule=\"evenodd\" fill-opacity=\"1\" stroke=\"#000000\" stroke-opacity=\"1\" stroke-width=\"3.2\"/>\n",
       "<circle clip-path=\"url(#clip392)\" cx=\"482.566\" cy=\"384.238\" r=\"14\" fill=\"#e26f46\" fill-rule=\"evenodd\" fill-opacity=\"1\" stroke=\"#000000\" stroke-opacity=\"1\" stroke-width=\"3.2\"/>\n",
       "<circle clip-path=\"url(#clip392)\" cx=\"541.054\" cy=\"330.924\" r=\"14\" fill=\"#e26f46\" fill-rule=\"evenodd\" fill-opacity=\"1\" stroke=\"#000000\" stroke-opacity=\"1\" stroke-width=\"3.2\"/>\n",
       "<circle clip-path=\"url(#clip392)\" cx=\"607.302\" cy=\"281.627\" r=\"14\" fill=\"#e26f46\" fill-rule=\"evenodd\" fill-opacity=\"1\" stroke=\"#000000\" stroke-opacity=\"1\" stroke-width=\"3.2\"/>\n",
       "<circle clip-path=\"url(#clip392)\" cx=\"680.727\" cy=\"236.882\" r=\"14\" fill=\"#e26f46\" fill-rule=\"evenodd\" fill-opacity=\"1\" stroke=\"#000000\" stroke-opacity=\"1\" stroke-width=\"3.2\"/>\n",
       "<circle clip-path=\"url(#clip392)\" cx=\"760.665\" cy=\"197.18\" r=\"14\" fill=\"#e26f46\" fill-rule=\"evenodd\" fill-opacity=\"1\" stroke=\"#000000\" stroke-opacity=\"1\" stroke-width=\"3.2\"/>\n",
       "<circle clip-path=\"url(#clip392)\" cx=\"846.383\" cy=\"162.97\" r=\"14\" fill=\"#e26f46\" fill-rule=\"evenodd\" fill-opacity=\"1\" stroke=\"#000000\" stroke-opacity=\"1\" stroke-width=\"3.2\"/>\n",
       "<circle clip-path=\"url(#clip392)\" cx=\"937.08\" cy=\"134.648\" r=\"14\" fill=\"#e26f46\" fill-rule=\"evenodd\" fill-opacity=\"1\" stroke=\"#000000\" stroke-opacity=\"1\" stroke-width=\"3.2\"/>\n",
       "<circle clip-path=\"url(#clip392)\" cx=\"1031.9\" cy=\"112.557\" r=\"14\" fill=\"#e26f46\" fill-rule=\"evenodd\" fill-opacity=\"1\" stroke=\"#000000\" stroke-opacity=\"1\" stroke-width=\"3.2\"/>\n",
       "<circle clip-path=\"url(#clip392)\" cx=\"1129.94\" cy=\"96.9801\" r=\"14\" fill=\"#e26f46\" fill-rule=\"evenodd\" fill-opacity=\"1\" stroke=\"#000000\" stroke-opacity=\"1\" stroke-width=\"3.2\"/>\n",
       "<circle clip-path=\"url(#clip392)\" cx=\"1230.24\" cy=\"88.1376\" r=\"14\" fill=\"#e26f46\" fill-rule=\"evenodd\" fill-opacity=\"1\" stroke=\"#000000\" stroke-opacity=\"1\" stroke-width=\"3.2\"/>\n",
       "<circle clip-path=\"url(#clip392)\" cx=\"1331.83\" cy=\"86.1857\" r=\"14\" fill=\"#e26f46\" fill-rule=\"evenodd\" fill-opacity=\"1\" stroke=\"#000000\" stroke-opacity=\"1\" stroke-width=\"3.2\"/>\n",
       "<circle clip-path=\"url(#clip392)\" cx=\"1433.7\" cy=\"91.2126\" r=\"14\" fill=\"#e26f46\" fill-rule=\"evenodd\" fill-opacity=\"1\" stroke=\"#000000\" stroke-opacity=\"1\" stroke-width=\"3.2\"/>\n",
       "<circle clip-path=\"url(#clip392)\" cx=\"1534.85\" cy=\"103.238\" r=\"14\" fill=\"#e26f46\" fill-rule=\"evenodd\" fill-opacity=\"1\" stroke=\"#000000\" stroke-opacity=\"1\" stroke-width=\"3.2\"/>\n",
       "<circle clip-path=\"url(#clip392)\" cx=\"1634.24\" cy=\"122.212\" r=\"14\" fill=\"#e26f46\" fill-rule=\"evenodd\" fill-opacity=\"1\" stroke=\"#000000\" stroke-opacity=\"1\" stroke-width=\"3.2\"/>\n",
       "<circle clip-path=\"url(#clip392)\" cx=\"1730.87\" cy=\"148.013\" r=\"14\" fill=\"#e26f46\" fill-rule=\"evenodd\" fill-opacity=\"1\" stroke=\"#000000\" stroke-opacity=\"1\" stroke-width=\"3.2\"/>\n",
       "<circle clip-path=\"url(#clip392)\" cx=\"1823.74\" cy=\"180.453\" r=\"14\" fill=\"#e26f46\" fill-rule=\"evenodd\" fill-opacity=\"1\" stroke=\"#000000\" stroke-opacity=\"1\" stroke-width=\"3.2\"/>\n",
       "<circle clip-path=\"url(#clip392)\" cx=\"1911.9\" cy=\"219.272\" r=\"14\" fill=\"#e26f46\" fill-rule=\"evenodd\" fill-opacity=\"1\" stroke=\"#000000\" stroke-opacity=\"1\" stroke-width=\"3.2\"/>\n",
       "<circle clip-path=\"url(#clip392)\" cx=\"1994.4\" cy=\"264.148\" r=\"14\" fill=\"#e26f46\" fill-rule=\"evenodd\" fill-opacity=\"1\" stroke=\"#000000\" stroke-opacity=\"1\" stroke-width=\"3.2\"/>\n",
       "<circle clip-path=\"url(#clip392)\" cx=\"2070.37\" cy=\"314.691\" r=\"14\" fill=\"#e26f46\" fill-rule=\"evenodd\" fill-opacity=\"1\" stroke=\"#000000\" stroke-opacity=\"1\" stroke-width=\"3.2\"/>\n",
       "<circle clip-path=\"url(#clip392)\" cx=\"2138.98\" cy=\"370.453\" r=\"14\" fill=\"#e26f46\" fill-rule=\"evenodd\" fill-opacity=\"1\" stroke=\"#000000\" stroke-opacity=\"1\" stroke-width=\"3.2\"/>\n",
       "<circle clip-path=\"url(#clip392)\" cx=\"2199.47\" cy=\"430.929\" r=\"14\" fill=\"#e26f46\" fill-rule=\"evenodd\" fill-opacity=\"1\" stroke=\"#000000\" stroke-opacity=\"1\" stroke-width=\"3.2\"/>\n",
       "<circle clip-path=\"url(#clip392)\" cx=\"2251.16\" cy=\"495.56\" r=\"14\" fill=\"#e26f46\" fill-rule=\"evenodd\" fill-opacity=\"1\" stroke=\"#000000\" stroke-opacity=\"1\" stroke-width=\"3.2\"/>\n",
       "<circle clip-path=\"url(#clip392)\" cx=\"2293.45\" cy=\"563.742\" r=\"14\" fill=\"#e26f46\" fill-rule=\"evenodd\" fill-opacity=\"1\" stroke=\"#000000\" stroke-opacity=\"1\" stroke-width=\"3.2\"/>\n",
       "<circle clip-path=\"url(#clip392)\" cx=\"2063.05\" cy=\"786.03\" r=\"14\" fill=\"#3da44d\" fill-rule=\"evenodd\" fill-opacity=\"1\" stroke=\"#000000\" stroke-opacity=\"1\" stroke-width=\"3.2\"/>\n",
       "<circle clip-path=\"url(#clip392)\" cx=\"2059.03\" cy=\"841.197\" r=\"14\" fill=\"#3da44d\" fill-rule=\"evenodd\" fill-opacity=\"1\" stroke=\"#000000\" stroke-opacity=\"1\" stroke-width=\"3.2\"/>\n",
       "<circle clip-path=\"url(#clip392)\" cx=\"2047.02\" cy=\"895.813\" r=\"14\" fill=\"#3da44d\" fill-rule=\"evenodd\" fill-opacity=\"1\" stroke=\"#000000\" stroke-opacity=\"1\" stroke-width=\"3.2\"/>\n",
       "<circle clip-path=\"url(#clip392)\" cx=\"2027.12\" cy=\"949.332\" r=\"14\" fill=\"#3da44d\" fill-rule=\"evenodd\" fill-opacity=\"1\" stroke=\"#000000\" stroke-opacity=\"1\" stroke-width=\"3.2\"/>\n",
       "<circle clip-path=\"url(#clip392)\" cx=\"1999.55\" cy=\"1001.22\" r=\"14\" fill=\"#3da44d\" fill-rule=\"evenodd\" fill-opacity=\"1\" stroke=\"#000000\" stroke-opacity=\"1\" stroke-width=\"3.2\"/>\n",
       "<circle clip-path=\"url(#clip392)\" cx=\"1964.58\" cy=\"1050.96\" r=\"14\" fill=\"#3da44d\" fill-rule=\"evenodd\" fill-opacity=\"1\" stroke=\"#000000\" stroke-opacity=\"1\" stroke-width=\"3.2\"/>\n",
       "<circle clip-path=\"url(#clip392)\" cx=\"1922.55\" cy=\"1098.05\" r=\"14\" fill=\"#3da44d\" fill-rule=\"evenodd\" fill-opacity=\"1\" stroke=\"#000000\" stroke-opacity=\"1\" stroke-width=\"3.2\"/>\n",
       "<circle clip-path=\"url(#clip392)\" cx=\"1873.89\" cy=\"1142.02\" r=\"14\" fill=\"#3da44d\" fill-rule=\"evenodd\" fill-opacity=\"1\" stroke=\"#000000\" stroke-opacity=\"1\" stroke-width=\"3.2\"/>\n",
       "<circle clip-path=\"url(#clip392)\" cx=\"1819.08\" cy=\"1182.44\" r=\"14\" fill=\"#3da44d\" fill-rule=\"evenodd\" fill-opacity=\"1\" stroke=\"#000000\" stroke-opacity=\"1\" stroke-width=\"3.2\"/>\n",
       "<circle clip-path=\"url(#clip392)\" cx=\"1758.68\" cy=\"1218.89\" r=\"14\" fill=\"#3da44d\" fill-rule=\"evenodd\" fill-opacity=\"1\" stroke=\"#000000\" stroke-opacity=\"1\" stroke-width=\"3.2\"/>\n",
       "<circle clip-path=\"url(#clip392)\" cx=\"1693.27\" cy=\"1251.02\" r=\"14\" fill=\"#3da44d\" fill-rule=\"evenodd\" fill-opacity=\"1\" stroke=\"#000000\" stroke-opacity=\"1\" stroke-width=\"3.2\"/>\n",
       "<circle clip-path=\"url(#clip392)\" cx=\"1623.53\" cy=\"1278.5\" r=\"14\" fill=\"#3da44d\" fill-rule=\"evenodd\" fill-opacity=\"1\" stroke=\"#000000\" stroke-opacity=\"1\" stroke-width=\"3.2\"/>\n",
       "<circle clip-path=\"url(#clip392)\" cx=\"1550.13\" cy=\"1301.07\" r=\"14\" fill=\"#3da44d\" fill-rule=\"evenodd\" fill-opacity=\"1\" stroke=\"#000000\" stroke-opacity=\"1\" stroke-width=\"3.2\"/>\n",
       "<circle clip-path=\"url(#clip392)\" cx=\"1473.83\" cy=\"1318.49\" r=\"14\" fill=\"#3da44d\" fill-rule=\"evenodd\" fill-opacity=\"1\" stroke=\"#000000\" stroke-opacity=\"1\" stroke-width=\"3.2\"/>\n",
       "<circle clip-path=\"url(#clip392)\" cx=\"1395.38\" cy=\"1330.58\" r=\"14\" fill=\"#3da44d\" fill-rule=\"evenodd\" fill-opacity=\"1\" stroke=\"#000000\" stroke-opacity=\"1\" stroke-width=\"3.2\"/>\n",
       "<circle clip-path=\"url(#clip392)\" cx=\"1315.56\" cy=\"1337.24\" r=\"14\" fill=\"#3da44d\" fill-rule=\"evenodd\" fill-opacity=\"1\" stroke=\"#000000\" stroke-opacity=\"1\" stroke-width=\"3.2\"/>\n",
       "<circle clip-path=\"url(#clip392)\" cx=\"1235.17\" cy=\"1338.39\" r=\"14\" fill=\"#3da44d\" fill-rule=\"evenodd\" fill-opacity=\"1\" stroke=\"#000000\" stroke-opacity=\"1\" stroke-width=\"3.2\"/>\n",
       "<circle clip-path=\"url(#clip392)\" cx=\"1155.01\" cy=\"1334.02\" r=\"14\" fill=\"#3da44d\" fill-rule=\"evenodd\" fill-opacity=\"1\" stroke=\"#000000\" stroke-opacity=\"1\" stroke-width=\"3.2\"/>\n",
       "<circle clip-path=\"url(#clip392)\" cx=\"1075.89\" cy=\"1324.17\" r=\"14\" fill=\"#3da44d\" fill-rule=\"evenodd\" fill-opacity=\"1\" stroke=\"#000000\" stroke-opacity=\"1\" stroke-width=\"3.2\"/>\n",
       "<circle clip-path=\"url(#clip392)\" cx=\"998.602\" cy=\"1308.95\" r=\"14\" fill=\"#3da44d\" fill-rule=\"evenodd\" fill-opacity=\"1\" stroke=\"#000000\" stroke-opacity=\"1\" stroke-width=\"3.2\"/>\n",
       "<circle clip-path=\"url(#clip392)\" cx=\"923.907\" cy=\"1288.5\" r=\"14\" fill=\"#3da44d\" fill-rule=\"evenodd\" fill-opacity=\"1\" stroke=\"#000000\" stroke-opacity=\"1\" stroke-width=\"3.2\"/>\n",
       "<circle clip-path=\"url(#clip392)\" cx=\"852.558\" cy=\"1263.03\" r=\"14\" fill=\"#3da44d\" fill-rule=\"evenodd\" fill-opacity=\"1\" stroke=\"#000000\" stroke-opacity=\"1\" stroke-width=\"3.2\"/>\n",
       "<circle clip-path=\"url(#clip392)\" cx=\"785.266\" cy=\"1232.8\" r=\"14\" fill=\"#3da44d\" fill-rule=\"evenodd\" fill-opacity=\"1\" stroke=\"#000000\" stroke-opacity=\"1\" stroke-width=\"3.2\"/>\n",
       "<circle clip-path=\"url(#clip392)\" cx=\"722.704\" cy=\"1198.1\" r=\"14\" fill=\"#3da44d\" fill-rule=\"evenodd\" fill-opacity=\"1\" stroke=\"#000000\" stroke-opacity=\"1\" stroke-width=\"3.2\"/>\n",
       "<circle clip-path=\"url(#clip392)\" cx=\"665.497\" cy=\"1159.29\" r=\"14\" fill=\"#3da44d\" fill-rule=\"evenodd\" fill-opacity=\"1\" stroke=\"#000000\" stroke-opacity=\"1\" stroke-width=\"3.2\"/>\n",
       "<circle clip-path=\"url(#clip392)\" cx=\"614.217\" cy=\"1116.74\" r=\"14\" fill=\"#3da44d\" fill-rule=\"evenodd\" fill-opacity=\"1\" stroke=\"#000000\" stroke-opacity=\"1\" stroke-width=\"3.2\"/>\n",
       "<circle clip-path=\"url(#clip392)\" cx=\"569.376\" cy=\"1070.89\" r=\"14\" fill=\"#3da44d\" fill-rule=\"evenodd\" fill-opacity=\"1\" stroke=\"#000000\" stroke-opacity=\"1\" stroke-width=\"3.2\"/>\n",
       "<circle clip-path=\"url(#clip392)\" cx=\"531.421\" cy=\"1022.2\" r=\"14\" fill=\"#3da44d\" fill-rule=\"evenodd\" fill-opacity=\"1\" stroke=\"#000000\" stroke-opacity=\"1\" stroke-width=\"3.2\"/>\n",
       "<circle clip-path=\"url(#clip392)\" cx=\"500.733\" cy=\"971.143\" r=\"14\" fill=\"#3da44d\" fill-rule=\"evenodd\" fill-opacity=\"1\" stroke=\"#000000\" stroke-opacity=\"1\" stroke-width=\"3.2\"/>\n",
       "<circle clip-path=\"url(#clip392)\" cx=\"477.618\" cy=\"918.239\" r=\"14\" fill=\"#3da44d\" fill-rule=\"evenodd\" fill-opacity=\"1\" stroke=\"#000000\" stroke-opacity=\"1\" stroke-width=\"3.2\"/>\n",
       "<circle clip-path=\"url(#clip392)\" cx=\"462.307\" cy=\"864.013\" r=\"14\" fill=\"#3da44d\" fill-rule=\"evenodd\" fill-opacity=\"1\" stroke=\"#000000\" stroke-opacity=\"1\" stroke-width=\"3.2\"/>\n",
       "<circle clip-path=\"url(#clip392)\" cx=\"454.952\" cy=\"809.008\" r=\"14\" fill=\"#3da44d\" fill-rule=\"evenodd\" fill-opacity=\"1\" stroke=\"#000000\" stroke-opacity=\"1\" stroke-width=\"3.2\"/>\n",
       "<circle clip-path=\"url(#clip392)\" cx=\"455.628\" cy=\"753.774\" r=\"14\" fill=\"#3da44d\" fill-rule=\"evenodd\" fill-opacity=\"1\" stroke=\"#000000\" stroke-opacity=\"1\" stroke-width=\"3.2\"/>\n",
       "<circle clip-path=\"url(#clip392)\" cx=\"464.327\" cy=\"698.862\" r=\"14\" fill=\"#3da44d\" fill-rule=\"evenodd\" fill-opacity=\"1\" stroke=\"#000000\" stroke-opacity=\"1\" stroke-width=\"3.2\"/>\n",
       "<circle clip-path=\"url(#clip392)\" cx=\"480.963\" cy=\"644.821\" r=\"14\" fill=\"#3da44d\" fill-rule=\"evenodd\" fill-opacity=\"1\" stroke=\"#000000\" stroke-opacity=\"1\" stroke-width=\"3.2\"/>\n",
       "<circle clip-path=\"url(#clip392)\" cx=\"505.37\" cy=\"592.191\" r=\"14\" fill=\"#3da44d\" fill-rule=\"evenodd\" fill-opacity=\"1\" stroke=\"#000000\" stroke-opacity=\"1\" stroke-width=\"3.2\"/>\n",
       "<circle clip-path=\"url(#clip392)\" cx=\"537.303\" cy=\"541.497\" r=\"14\" fill=\"#3da44d\" fill-rule=\"evenodd\" fill-opacity=\"1\" stroke=\"#000000\" stroke-opacity=\"1\" stroke-width=\"3.2\"/>\n",
       "<circle clip-path=\"url(#clip392)\" cx=\"576.443\" cy=\"493.247\" r=\"14\" fill=\"#3da44d\" fill-rule=\"evenodd\" fill-opacity=\"1\" stroke=\"#000000\" stroke-opacity=\"1\" stroke-width=\"3.2\"/>\n",
       "<circle clip-path=\"url(#clip392)\" cx=\"622.4\" cy=\"447.922\" r=\"14\" fill=\"#3da44d\" fill-rule=\"evenodd\" fill-opacity=\"1\" stroke=\"#000000\" stroke-opacity=\"1\" stroke-width=\"3.2\"/>\n",
       "<circle clip-path=\"url(#clip392)\" cx=\"674.714\" cy=\"405.976\" r=\"14\" fill=\"#3da44d\" fill-rule=\"evenodd\" fill-opacity=\"1\" stroke=\"#000000\" stroke-opacity=\"1\" stroke-width=\"3.2\"/>\n",
       "<circle clip-path=\"url(#clip392)\" cx=\"732.863\" cy=\"367.827\" r=\"14\" fill=\"#3da44d\" fill-rule=\"evenodd\" fill-opacity=\"1\" stroke=\"#000000\" stroke-opacity=\"1\" stroke-width=\"3.2\"/>\n",
       "<circle clip-path=\"url(#clip392)\" cx=\"796.265\" cy=\"333.856\" r=\"14\" fill=\"#3da44d\" fill-rule=\"evenodd\" fill-opacity=\"1\" stroke=\"#000000\" stroke-opacity=\"1\" stroke-width=\"3.2\"/>\n",
       "<circle clip-path=\"url(#clip392)\" cx=\"864.287\" cy=\"304.404\" r=\"14\" fill=\"#3da44d\" fill-rule=\"evenodd\" fill-opacity=\"1\" stroke=\"#000000\" stroke-opacity=\"1\" stroke-width=\"3.2\"/>\n",
       "<circle clip-path=\"url(#clip392)\" cx=\"936.249\" cy=\"279.763\" r=\"14\" fill=\"#3da44d\" fill-rule=\"evenodd\" fill-opacity=\"1\" stroke=\"#000000\" stroke-opacity=\"1\" stroke-width=\"3.2\"/>\n",
       "<circle clip-path=\"url(#clip392)\" cx=\"1011.43\" cy=\"260.181\" r=\"14\" fill=\"#3da44d\" fill-rule=\"evenodd\" fill-opacity=\"1\" stroke=\"#000000\" stroke-opacity=\"1\" stroke-width=\"3.2\"/>\n",
       "<circle clip-path=\"url(#clip392)\" cx=\"1089.09\" cy=\"245.853\" r=\"14\" fill=\"#3da44d\" fill-rule=\"evenodd\" fill-opacity=\"1\" stroke=\"#000000\" stroke-opacity=\"1\" stroke-width=\"3.2\"/>\n",
       "<circle clip-path=\"url(#clip392)\" cx=\"1168.44\" cy=\"236.923\" r=\"14\" fill=\"#3da44d\" fill-rule=\"evenodd\" fill-opacity=\"1\" stroke=\"#000000\" stroke-opacity=\"1\" stroke-width=\"3.2\"/>\n",
       "<circle clip-path=\"url(#clip392)\" cx=\"1248.69\" cy=\"233.479\" r=\"14\" fill=\"#3da44d\" fill-rule=\"evenodd\" fill-opacity=\"1\" stroke=\"#000000\" stroke-opacity=\"1\" stroke-width=\"3.2\"/>\n",
       "<circle clip-path=\"url(#clip392)\" cx=\"1329.03\" cy=\"235.556\" r=\"14\" fill=\"#3da44d\" fill-rule=\"evenodd\" fill-opacity=\"1\" stroke=\"#000000\" stroke-opacity=\"1\" stroke-width=\"3.2\"/>\n",
       "<circle clip-path=\"url(#clip392)\" cx=\"1408.68\" cy=\"243.133\" r=\"14\" fill=\"#3da44d\" fill-rule=\"evenodd\" fill-opacity=\"1\" stroke=\"#000000\" stroke-opacity=\"1\" stroke-width=\"3.2\"/>\n",
       "<circle clip-path=\"url(#clip392)\" cx=\"1486.83\" cy=\"256.134\" r=\"14\" fill=\"#3da44d\" fill-rule=\"evenodd\" fill-opacity=\"1\" stroke=\"#000000\" stroke-opacity=\"1\" stroke-width=\"3.2\"/>\n",
       "<circle clip-path=\"url(#clip392)\" cx=\"1562.69\" cy=\"274.43\" r=\"14\" fill=\"#3da44d\" fill-rule=\"evenodd\" fill-opacity=\"1\" stroke=\"#000000\" stroke-opacity=\"1\" stroke-width=\"3.2\"/>\n",
       "<circle clip-path=\"url(#clip392)\" cx=\"1635.52\" cy=\"297.837\" r=\"14\" fill=\"#3da44d\" fill-rule=\"evenodd\" fill-opacity=\"1\" stroke=\"#000000\" stroke-opacity=\"1\" stroke-width=\"3.2\"/>\n",
       "<circle clip-path=\"url(#clip392)\" cx=\"1704.59\" cy=\"326.123\" r=\"14\" fill=\"#3da44d\" fill-rule=\"evenodd\" fill-opacity=\"1\" stroke=\"#000000\" stroke-opacity=\"1\" stroke-width=\"3.2\"/>\n",
       "<circle clip-path=\"url(#clip392)\" cx=\"1769.2\" cy=\"359.004\" r=\"14\" fill=\"#3da44d\" fill-rule=\"evenodd\" fill-opacity=\"1\" stroke=\"#000000\" stroke-opacity=\"1\" stroke-width=\"3.2\"/>\n",
       "<circle clip-path=\"url(#clip392)\" cx=\"1828.7\" cy=\"396.151\" r=\"14\" fill=\"#3da44d\" fill-rule=\"evenodd\" fill-opacity=\"1\" stroke=\"#000000\" stroke-opacity=\"1\" stroke-width=\"3.2\"/>\n",
       "<circle clip-path=\"url(#clip392)\" cx=\"1882.51\" cy=\"437.194\" r=\"14\" fill=\"#3da44d\" fill-rule=\"evenodd\" fill-opacity=\"1\" stroke=\"#000000\" stroke-opacity=\"1\" stroke-width=\"3.2\"/>\n",
       "<circle clip-path=\"url(#clip392)\" cx=\"1930.09\" cy=\"481.722\" r=\"14\" fill=\"#3da44d\" fill-rule=\"evenodd\" fill-opacity=\"1\" stroke=\"#000000\" stroke-opacity=\"1\" stroke-width=\"3.2\"/>\n",
       "<circle clip-path=\"url(#clip392)\" cx=\"1970.96\" cy=\"529.291\" r=\"14\" fill=\"#3da44d\" fill-rule=\"evenodd\" fill-opacity=\"1\" stroke=\"#000000\" stroke-opacity=\"1\" stroke-width=\"3.2\"/>\n",
       "<circle clip-path=\"url(#clip392)\" cx=\"2004.71\" cy=\"579.425\" r=\"14\" fill=\"#3da44d\" fill-rule=\"evenodd\" fill-opacity=\"1\" stroke=\"#000000\" stroke-opacity=\"1\" stroke-width=\"3.2\"/>\n",
       "<circle clip-path=\"url(#clip392)\" cx=\"2031.01\" cy=\"631.624\" r=\"14\" fill=\"#3da44d\" fill-rule=\"evenodd\" fill-opacity=\"1\" stroke=\"#000000\" stroke-opacity=\"1\" stroke-width=\"3.2\"/>\n",
       "<path clip-path=\"url(#clip390)\" d=\"\n",
       "M1745.14 335.029 L2282.9 335.029 L2282.9 93.1086 L1745.14 93.1086  Z\n",
       "  \" fill=\"#ffffff\" fill-rule=\"evenodd\" fill-opacity=\"1\"/>\n",
       "<polyline clip-path=\"url(#clip390)\" style=\"stroke:#000000; stroke-width:4; stroke-opacity:1; fill:none\" points=\"\n",
       "  1745.14,335.029 2282.9,335.029 2282.9,93.1086 1745.14,93.1086 1745.14,335.029 \n",
       "  \"/>\n",
       "<polyline clip-path=\"url(#clip390)\" style=\"stroke:#009af9; stroke-width:4; stroke-opacity:1; fill:none\" points=\"\n",
       "  1768.42,153.589 1908.12,153.589 \n",
       "  \"/>\n",
       "<path clip-path=\"url(#clip390)\" d=\"M 0 0 M1955.44 156.841 L1955.44 158.924 L1935.85 158.924 Q1936.13 163.322 1938.49 165.637 Q1940.87 167.929 1945.11 167.929 Q1947.56 167.929 1949.86 167.327 Q1952.17 166.725 1954.44 165.521 L1954.44 169.549 Q1952.15 170.521 1949.74 171.031 Q1947.33 171.54 1944.86 171.54 Q1938.65 171.54 1935.02 167.929 Q1931.41 164.318 1931.41 158.16 Q1931.41 151.795 1934.83 148.068 Q1938.28 144.318 1944.12 144.318 Q1949.35 144.318 1952.38 147.697 Q1955.44 151.054 1955.44 156.841 M1951.18 155.591 Q1951.13 152.096 1949.21 150.012 Q1947.31 147.929 1944.16 147.929 Q1940.6 147.929 1938.44 149.943 Q1936.31 151.957 1935.99 155.614 L1951.18 155.591 Z\" fill=\"#000000\" fill-rule=\"evenodd\" fill-opacity=\"1\" /><path clip-path=\"url(#clip390)\" d=\"M 0 0 M1983.14 144.943 L1973.77 157.559 L1983.63 170.869 L1978.61 170.869 L1971.06 160.683 L1963.51 170.869 L1958.49 170.869 L1968.56 157.304 L1959.35 144.943 L1964.37 144.943 L1971.25 154.179 L1978.12 144.943 L1983.14 144.943 Z\" fill=\"#000000\" fill-rule=\"evenodd\" fill-opacity=\"1\" /><path clip-path=\"url(#clip390)\" d=\"M 0 0 M2001.43 157.836 Q1996.27 157.836 1994.28 159.017 Q1992.29 160.197 1992.29 163.045 Q1992.29 165.313 1993.77 166.656 Q1995.27 167.975 1997.84 167.975 Q2001.38 167.975 2003.51 165.475 Q2005.67 162.952 2005.67 158.785 L2005.67 157.836 L2001.43 157.836 M2009.93 156.077 L2009.93 170.869 L2005.67 170.869 L2005.67 166.933 Q2004.21 169.295 2002.03 170.429 Q1999.86 171.54 1996.71 171.54 Q1992.73 171.54 1990.37 169.318 Q1988.03 167.072 1988.03 163.322 Q1988.03 158.947 1990.94 156.725 Q1993.88 154.503 1999.69 154.503 L2005.67 154.503 L2005.67 154.086 Q2005.67 151.147 2003.72 149.549 Q2001.8 147.929 1998.31 147.929 Q1996.08 147.929 1993.98 148.461 Q1991.87 148.994 1989.93 150.059 L1989.93 146.123 Q1992.26 145.221 1994.46 144.781 Q1996.66 144.318 1998.75 144.318 Q2004.37 144.318 2007.15 147.234 Q2009.93 150.151 2009.93 156.077 Z\" fill=\"#000000\" fill-rule=\"evenodd\" fill-opacity=\"1\" /><path clip-path=\"url(#clip390)\" d=\"M 0 0 M2037.36 145.938 L2037.36 149.92 Q2035.55 148.924 2033.72 148.438 Q2031.92 147.929 2030.06 147.929 Q2025.92 147.929 2023.63 150.568 Q2021.34 153.184 2021.34 157.929 Q2021.34 162.674 2023.63 165.313 Q2025.92 167.929 2030.06 167.929 Q2031.92 167.929 2033.72 167.443 Q2035.55 166.933 2037.36 165.938 L2037.36 169.873 Q2035.57 170.707 2033.65 171.123 Q2031.75 171.54 2029.6 171.54 Q2023.74 171.54 2020.3 167.859 Q2016.85 164.179 2016.85 157.929 Q2016.85 151.586 2020.32 147.952 Q2023.81 144.318 2029.88 144.318 Q2031.85 144.318 2033.72 144.735 Q2035.6 145.128 2037.36 145.938 Z\" fill=\"#000000\" fill-rule=\"evenodd\" fill-opacity=\"1\" /><path clip-path=\"url(#clip390)\" d=\"M 0 0 M2048.98 137.582 L2048.98 144.943 L2057.75 144.943 L2057.75 148.253 L2048.98 148.253 L2048.98 162.327 Q2048.98 165.498 2049.83 166.401 Q2050.71 167.304 2053.37 167.304 L2057.75 167.304 L2057.75 170.869 L2053.37 170.869 Q2048.44 170.869 2046.57 169.04 Q2044.69 167.188 2044.69 162.327 L2044.69 148.253 L2041.57 148.253 L2041.57 144.943 L2044.69 144.943 L2044.69 137.582 L2048.98 137.582 Z\" fill=\"#000000\" fill-rule=\"evenodd\" fill-opacity=\"1\" /><circle clip-path=\"url(#clip390)\" cx=\"1838.27\" cy=\"214.069\" r=\"23\" fill=\"#e26f46\" fill-rule=\"evenodd\" fill-opacity=\"1\" stroke=\"#000000\" stroke-opacity=\"1\" stroke-width=\"5.12\"/>\n",
       "<path clip-path=\"url(#clip390)\" d=\"M 0 0 M1955.44 217.321 L1955.44 219.404 L1935.85 219.404 Q1936.13 223.802 1938.49 226.117 Q1940.87 228.409 1945.11 228.409 Q1947.56 228.409 1949.86 227.807 Q1952.17 227.205 1954.44 226.001 L1954.44 230.029 Q1952.15 231.001 1949.74 231.511 Q1947.33 232.02 1944.86 232.02 Q1938.65 232.02 1935.02 228.409 Q1931.41 224.798 1931.41 218.64 Q1931.41 212.275 1934.83 208.548 Q1938.28 204.798 1944.12 204.798 Q1949.35 204.798 1952.38 208.177 Q1955.44 211.534 1955.44 217.321 M1951.18 216.071 Q1951.13 212.576 1949.21 210.492 Q1947.31 208.409 1944.16 208.409 Q1940.6 208.409 1938.44 210.423 Q1936.31 212.437 1935.99 216.094 L1951.18 216.071 Z\" fill=\"#000000\" fill-rule=\"evenodd\" fill-opacity=\"1\" /><path clip-path=\"url(#clip390)\" d=\"M 0 0 M1983.14 205.423 L1973.77 218.039 L1983.63 231.349 L1978.61 231.349 L1971.06 221.163 L1963.51 231.349 L1958.49 231.349 L1968.56 217.784 L1959.35 205.423 L1964.37 205.423 L1971.25 214.659 L1978.12 205.423 L1983.14 205.423 Z\" fill=\"#000000\" fill-rule=\"evenodd\" fill-opacity=\"1\" /><path clip-path=\"url(#clip390)\" d=\"M 0 0 M1993.77 227.46 L1993.77 241.21 L1989.49 241.21 L1989.49 205.423 L1993.77 205.423 L1993.77 209.358 Q1995.11 207.043 1997.15 205.932 Q1999.21 204.798 2002.06 204.798 Q2006.78 204.798 2009.72 208.548 Q2012.68 212.298 2012.68 218.409 Q2012.68 224.52 2009.72 228.27 Q2006.78 232.02 2002.06 232.02 Q1999.21 232.02 1997.15 230.909 Q1995.11 229.775 1993.77 227.46 M2008.26 218.409 Q2008.26 213.71 2006.31 211.048 Q2004.39 208.363 2001.01 208.363 Q1997.63 208.363 1995.69 211.048 Q1993.77 213.71 1993.77 218.409 Q1993.77 223.108 1995.69 225.793 Q1997.63 228.455 2001.01 228.455 Q2004.39 228.455 2006.31 225.793 Q2008.26 223.108 2008.26 218.409 Z\" fill=\"#000000\" fill-rule=\"evenodd\" fill-opacity=\"1\" /><path clip-path=\"url(#clip390)\" d=\"M 0 0 M2019.74 195.33 L2024 195.33 L2024 231.349 L2019.74 231.349 L2019.74 195.33 Z\" fill=\"#000000\" fill-rule=\"evenodd\" fill-opacity=\"1\" /><path clip-path=\"url(#clip390)\" d=\"M 0 0 M2032.91 205.423 L2037.17 205.423 L2037.17 231.349 L2032.91 231.349 L2032.91 205.423 M2032.91 195.33 L2037.17 195.33 L2037.17 200.724 L2032.91 200.724 L2032.91 195.33 Z\" fill=\"#000000\" fill-rule=\"evenodd\" fill-opacity=\"1\" /><path clip-path=\"url(#clip390)\" d=\"M 0 0 M2064.74 206.418 L2064.74 210.4 Q2062.93 209.404 2061.11 208.918 Q2059.3 208.409 2057.45 208.409 Q2053.3 208.409 2051.01 211.048 Q2048.72 213.664 2048.72 218.409 Q2048.72 223.154 2051.01 225.793 Q2053.3 228.409 2057.45 228.409 Q2059.3 228.409 2061.11 227.923 Q2062.93 227.413 2064.74 226.418 L2064.74 230.353 Q2062.96 231.187 2061.04 231.603 Q2059.14 232.02 2056.99 232.02 Q2051.13 232.02 2047.68 228.339 Q2044.23 224.659 2044.23 218.409 Q2044.23 212.066 2047.7 208.432 Q2051.2 204.798 2057.26 204.798 Q2059.23 204.798 2061.11 205.215 Q2062.98 205.608 2064.74 206.418 Z\" fill=\"#000000\" fill-rule=\"evenodd\" fill-opacity=\"1\" /><path clip-path=\"url(#clip390)\" d=\"M 0 0 M2072.15 205.423 L2076.41 205.423 L2076.41 231.349 L2072.15 231.349 L2072.15 205.423 M2072.15 195.33 L2076.41 195.33 L2076.41 200.724 L2072.15 200.724 L2072.15 195.33 Z\" fill=\"#000000\" fill-rule=\"evenodd\" fill-opacity=\"1\" /><path clip-path=\"url(#clip390)\" d=\"M 0 0 M2089.53 198.062 L2089.53 205.423 L2098.3 205.423 L2098.3 208.733 L2089.53 208.733 L2089.53 222.807 Q2089.53 225.978 2090.39 226.881 Q2091.27 227.784 2093.93 227.784 L2098.3 227.784 L2098.3 231.349 L2093.93 231.349 Q2089 231.349 2087.12 229.52 Q2085.25 227.668 2085.25 222.807 L2085.25 208.733 L2082.12 208.733 L2082.12 205.423 L2085.25 205.423 L2085.25 198.062 L2089.53 198.062 Z\" fill=\"#000000\" fill-rule=\"evenodd\" fill-opacity=\"1\" /><path clip-path=\"url(#clip390)\" d=\"M 0 0 M2119.16 196.789 L2141.01 196.789 L2141.01 200.724 L2123.84 200.724 L2123.84 210.955 L2140.3 210.955 L2140.3 214.89 L2123.84 214.89 L2123.84 227.413 L2141.43 227.413 L2141.43 231.349 L2119.16 231.349 L2119.16 196.789 Z\" fill=\"#000000\" fill-rule=\"evenodd\" fill-opacity=\"1\" /><path clip-path=\"url(#clip390)\" d=\"M 0 0 M2148.49 221.117 L2148.49 205.423 L2152.75 205.423 L2152.75 220.955 Q2152.75 224.636 2154.18 226.488 Q2155.62 228.316 2158.49 228.316 Q2161.94 228.316 2163.93 226.117 Q2165.94 223.918 2165.94 220.122 L2165.94 205.423 L2170.2 205.423 L2170.2 231.349 L2165.94 231.349 L2165.94 227.367 Q2164.39 229.728 2162.33 230.886 Q2160.3 232.02 2157.59 232.02 Q2153.12 232.02 2150.8 229.242 Q2148.49 226.464 2148.49 221.117 M2159.21 204.798 L2159.21 204.798 Z\" fill=\"#000000\" fill-rule=\"evenodd\" fill-opacity=\"1\" /><path clip-path=\"url(#clip390)\" d=\"M 0 0 M2178.98 195.33 L2183.23 195.33 L2183.23 231.349 L2178.98 231.349 L2178.98 195.33 Z\" fill=\"#000000\" fill-rule=\"evenodd\" fill-opacity=\"1\" /><path clip-path=\"url(#clip390)\" d=\"M 0 0 M2214.32 217.321 L2214.32 219.404 L2194.74 219.404 Q2195.02 223.802 2197.38 226.117 Q2199.76 228.409 2204 228.409 Q2206.45 228.409 2208.74 227.807 Q2211.06 227.205 2213.33 226.001 L2213.33 230.029 Q2211.04 231.001 2208.63 231.511 Q2206.22 232.02 2203.74 232.02 Q2197.54 232.02 2193.91 228.409 Q2190.29 224.798 2190.29 218.64 Q2190.29 212.275 2193.72 208.548 Q2197.17 204.798 2203 204.798 Q2208.23 204.798 2211.27 208.177 Q2214.32 211.534 2214.32 217.321 M2210.06 216.071 Q2210.02 212.576 2208.1 210.492 Q2206.2 208.409 2203.05 208.409 Q2199.48 208.409 2197.33 210.423 Q2195.2 212.437 2194.88 216.094 L2210.06 216.071 Z\" fill=\"#000000\" fill-rule=\"evenodd\" fill-opacity=\"1\" /><path clip-path=\"url(#clip390)\" d=\"M 0 0 M2236.34 209.404 Q2235.62 208.988 2234.76 208.802 Q2233.93 208.594 2232.91 208.594 Q2229.3 208.594 2227.35 210.955 Q2225.43 213.293 2225.43 217.691 L2225.43 231.349 L2221.15 231.349 L2221.15 205.423 L2225.43 205.423 L2225.43 209.451 Q2226.78 207.089 2228.93 205.955 Q2231.08 204.798 2234.16 204.798 Q2234.6 204.798 2235.13 204.867 Q2235.67 204.914 2236.31 205.029 L2236.34 209.404 Z\" fill=\"#000000\" fill-rule=\"evenodd\" fill-opacity=\"1\" /><circle clip-path=\"url(#clip390)\" cx=\"1838.27\" cy=\"274.549\" r=\"23\" fill=\"#3da44d\" fill-rule=\"evenodd\" fill-opacity=\"1\" stroke=\"#000000\" stroke-opacity=\"1\" stroke-width=\"5.12\"/>\n",
       "<path clip-path=\"url(#clip390)\" d=\"M 0 0 M1947.8 275.625 Q1949.3 276.134 1950.71 277.801 Q1952.15 279.468 1953.58 282.384 L1958.33 291.829 L1953.31 291.829 L1948.88 282.963 Q1947.17 279.491 1945.55 278.356 Q1943.95 277.222 1941.18 277.222 L1936.08 277.222 L1936.08 291.829 L1931.41 291.829 L1931.41 257.269 L1941.96 257.269 Q1947.89 257.269 1950.81 259.745 Q1953.72 262.222 1953.72 267.222 Q1953.72 270.486 1952.19 272.639 Q1950.69 274.792 1947.8 275.625 M1936.08 261.111 L1936.08 273.38 L1941.96 273.38 Q1945.34 273.38 1947.06 271.829 Q1948.79 270.255 1948.79 267.222 Q1948.79 264.19 1947.06 262.662 Q1945.34 261.111 1941.96 261.111 L1936.08 261.111 Z\" fill=\"#000000\" fill-rule=\"evenodd\" fill-opacity=\"1\" /><path clip-path=\"url(#clip390)\" d=\"M 0 0 M1961.59 281.597 L1961.59 265.903 L1965.85 265.903 L1965.85 281.435 Q1965.85 285.116 1967.29 286.968 Q1968.72 288.796 1971.59 288.796 Q1975.04 288.796 1977.03 286.597 Q1979.05 284.398 1979.05 280.602 L1979.05 265.903 L1983.31 265.903 L1983.31 291.829 L1979.05 291.829 L1979.05 287.847 Q1977.5 290.208 1975.43 291.366 Q1973.4 292.5 1970.69 292.5 Q1966.22 292.5 1963.91 289.722 Q1961.59 286.944 1961.59 281.597 M1972.31 265.278 L1972.31 265.278 Z\" fill=\"#000000\" fill-rule=\"evenodd\" fill-opacity=\"1\" /><path clip-path=\"url(#clip390)\" d=\"M 0 0 M2013.63 276.181 L2013.63 291.829 L2009.37 291.829 L2009.37 276.319 Q2009.37 272.639 2007.93 270.81 Q2006.5 268.982 2003.63 268.982 Q2000.18 268.982 1998.19 271.181 Q1996.2 273.38 1996.2 277.176 L1996.2 291.829 L1991.92 291.829 L1991.92 265.903 L1996.2 265.903 L1996.2 269.931 Q1997.73 267.593 1999.79 266.435 Q2001.87 265.278 2004.58 265.278 Q2009.05 265.278 2011.34 268.056 Q2013.63 270.81 2013.63 276.181 Z\" fill=\"#000000\" fill-rule=\"evenodd\" fill-opacity=\"1\" /><path clip-path=\"url(#clip390)\" d=\"M 0 0 M2039.18 278.565 Q2039.18 273.935 2037.26 271.389 Q2035.37 268.843 2031.92 268.843 Q2028.49 268.843 2026.57 271.389 Q2024.67 273.935 2024.67 278.565 Q2024.67 283.171 2026.57 285.718 Q2028.49 288.264 2031.92 288.264 Q2035.37 288.264 2037.26 285.718 Q2039.18 283.171 2039.18 278.565 M2043.44 288.611 Q2043.44 295.231 2040.5 298.449 Q2037.56 301.69 2031.5 301.69 Q2029.25 301.69 2027.26 301.342 Q2025.27 301.018 2023.4 300.324 L2023.4 296.18 Q2025.27 297.199 2027.1 297.685 Q2028.93 298.171 2030.83 298.171 Q2035.02 298.171 2037.1 295.972 Q2039.18 293.796 2039.18 289.375 L2039.18 287.268 Q2037.87 289.56 2035.81 290.694 Q2033.74 291.829 2030.87 291.829 Q2026.11 291.829 2023.19 288.194 Q2020.27 284.56 2020.27 278.565 Q2020.27 272.546 2023.19 268.912 Q2026.11 265.278 2030.87 265.278 Q2033.74 265.278 2035.81 266.412 Q2037.87 267.546 2039.18 269.838 L2039.18 265.903 L2043.44 265.903 L2043.44 288.611 Z\" fill=\"#000000\" fill-rule=\"evenodd\" fill-opacity=\"1\" /><path clip-path=\"url(#clip390)\" d=\"M 0 0 M2074.39 277.801 L2074.39 279.884 L2054.81 279.884 Q2055.09 284.282 2057.45 286.597 Q2059.83 288.889 2064.07 288.889 Q2066.52 288.889 2068.81 288.287 Q2071.13 287.685 2073.4 286.481 L2073.4 290.509 Q2071.11 291.481 2068.7 291.991 Q2066.29 292.5 2063.81 292.5 Q2057.61 292.5 2053.98 288.889 Q2050.37 285.278 2050.37 279.12 Q2050.37 272.755 2053.79 269.028 Q2057.24 265.278 2063.07 265.278 Q2068.3 265.278 2071.34 268.657 Q2074.39 272.014 2074.39 277.801 M2070.13 276.551 Q2070.09 273.056 2068.17 270.972 Q2066.27 268.889 2063.12 268.889 Q2059.55 268.889 2057.4 270.903 Q2055.27 272.917 2054.95 276.574 L2070.13 276.551 Z\" fill=\"#000000\" fill-rule=\"evenodd\" fill-opacity=\"1\" /><path clip-path=\"url(#clip390)\" d=\"M 0 0 M2079.23 276.944 L2091.71 276.944 L2091.71 280.741 L2079.23 280.741 L2079.23 276.944 Z\" fill=\"#000000\" fill-rule=\"evenodd\" fill-opacity=\"1\" /><path clip-path=\"url(#clip390)\" d=\"M 0 0 M2098.68 257.269 L2103.35 257.269 L2103.35 271.875 L2118.86 257.269 L2124.88 257.269 L2107.73 273.38 L2126.11 291.829 L2119.95 291.829 L2103.35 275.185 L2103.35 291.829 L2098.68 291.829 L2098.68 257.269 Z\" fill=\"#000000\" fill-rule=\"evenodd\" fill-opacity=\"1\" /><path clip-path=\"url(#clip390)\" d=\"M 0 0 M2126.78 281.597 L2126.78 265.903 L2131.04 265.903 L2131.04 281.435 Q2131.04 285.116 2132.47 286.968 Q2133.91 288.796 2136.78 288.796 Q2140.23 288.796 2142.22 286.597 Q2144.23 284.398 2144.23 280.602 L2144.23 265.903 L2148.49 265.903 L2148.49 291.829 L2144.23 291.829 L2144.23 287.847 Q2142.68 290.208 2140.62 291.366 Q2138.58 292.5 2135.87 292.5 Q2131.41 292.5 2129.09 289.722 Q2126.78 286.944 2126.78 281.597 M2137.49 265.278 L2137.49 265.278 Z\" fill=\"#000000\" fill-rule=\"evenodd\" fill-opacity=\"1\" /><path clip-path=\"url(#clip390)\" d=\"M 0 0 M2161.48 258.542 L2161.48 265.903 L2170.25 265.903 L2170.25 269.213 L2161.48 269.213 L2161.48 283.287 Q2161.48 286.458 2162.33 287.361 Q2163.21 288.264 2165.87 288.264 L2170.25 288.264 L2170.25 291.829 L2165.87 291.829 Q2160.94 291.829 2159.07 290 Q2157.19 288.148 2157.19 283.287 L2157.19 269.213 L2154.07 269.213 L2154.07 265.903 L2157.19 265.903 L2157.19 258.542 L2161.48 258.542 Z\" fill=\"#000000\" fill-rule=\"evenodd\" fill-opacity=\"1\" /><path clip-path=\"url(#clip390)\" d=\"M 0 0 M2180.06 258.542 L2180.06 265.903 L2188.84 265.903 L2188.84 269.213 L2180.06 269.213 L2180.06 283.287 Q2180.06 286.458 2180.92 287.361 Q2181.8 288.264 2184.46 288.264 L2188.84 288.264 L2188.84 291.829 L2184.46 291.829 Q2179.53 291.829 2177.66 290 Q2175.78 288.148 2175.78 283.287 L2175.78 269.213 L2172.66 269.213 L2172.66 265.903 L2175.78 265.903 L2175.78 258.542 L2180.06 258.542 Z\" fill=\"#000000\" fill-rule=\"evenodd\" fill-opacity=\"1\" /><path clip-path=\"url(#clip390)\" d=\"M 0 0 M2206.22 278.796 Q2201.06 278.796 2199.07 279.977 Q2197.08 281.157 2197.08 284.005 Q2197.08 286.273 2198.56 287.616 Q2200.06 288.935 2202.63 288.935 Q2206.17 288.935 2208.3 286.435 Q2210.46 283.912 2210.46 279.745 L2210.46 278.796 L2206.22 278.796 M2214.72 277.037 L2214.72 291.829 L2210.46 291.829 L2210.46 287.893 Q2209 290.255 2206.82 291.389 Q2204.65 292.5 2201.5 292.5 Q2197.52 292.5 2195.16 290.278 Q2192.82 288.032 2192.82 284.282 Q2192.82 279.907 2195.73 277.685 Q2198.67 275.463 2204.48 275.463 L2210.46 275.463 L2210.46 275.046 Q2210.46 272.107 2208.51 270.509 Q2206.59 268.889 2203.1 268.889 Q2200.87 268.889 2198.77 269.421 Q2196.66 269.954 2194.72 271.019 L2194.72 267.083 Q2197.05 266.181 2199.25 265.741 Q2201.45 265.278 2203.54 265.278 Q2209.16 265.278 2211.94 268.194 Q2214.72 271.111 2214.72 277.037 Z\" fill=\"#000000\" fill-rule=\"evenodd\" fill-opacity=\"1\" /></svg>\n"
      ]
     },
     "execution_count": 18,
     "metadata": {},
     "output_type": "execute_result"
    }
   ],
   "source": [
    "plot(cos.(t),-sin.(t),label=\"exact\")\n",
    "scatter!(yEE[1,:],yEE[2,:],label=\"explicit Euler\")\n",
    "scatter!(yRK[1,:],yRK[2,:],label=\"Runge-Kutta\") \n",
    "# scatter!(ysE[1,:],ysE[2,:],label=\"symplectic Euler\") # 上のsymplectic Euler法の関数が完成したら一番左の # を消す．\n",
    "xlabel!(\"q\")\n",
    "ylabel!(\"p\")"
   ]
  },
  {
   "cell_type": "markdown",
   "metadata": {},
   "source": [
    "symplectic Euler法の結果はどうなったでしょうか．4次精度のRK法が厳密解に近いのは直感的にも納得できると思いますが，symplectic Euler法は陽的Euler法と同じ1次精度解法です．ちょっと不思議な結果になったと思います．関連する問題をレポート課題で出題しています．"
   ]
  },
  {
   "cell_type": "code",
   "execution_count": null,
   "metadata": {},
   "outputs": [],
   "source": []
  }
 ],
 "metadata": {
  "kernelspec": {
   "display_name": "Julia 1.6.0",
   "language": "julia",
   "name": "julia-1.6"
  },
  "language_info": {
   "file_extension": ".jl",
   "mimetype": "application/julia",
   "name": "julia",
   "version": "1.6.1"
  }
 },
 "nbformat": 4,
 "nbformat_minor": 4
}
